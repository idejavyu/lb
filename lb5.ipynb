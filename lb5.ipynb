{
  "nbformat": 4,
  "nbformat_minor": 0,
  "metadata": {
    "colab": {
      "provenance": []
    },
    "kernelspec": {
      "name": "python3",
      "display_name": "Python 3"
    },
    "language_info": {
      "name": "python"
    }
  },
  "cells": [
    {
      "cell_type": "code",
      "execution_count": 3,
      "metadata": {
        "colab": {
          "base_uri": "https://localhost:8080/"
        },
        "id": "cFvucMNhw4Zx",
        "outputId": "8154b7af-d617-4809-a6eb-63d2a4db2225"
      },
      "outputs": [
        {
          "output_type": "stream",
          "name": "stdout",
          "text": [
            "\u001b[2K     \u001b[90m━━━━━━━━━━━━━━━━━━━━━━━━━━━━━━━━━━━━━━━━\u001b[0m \u001b[32m3.0/3.0 MB\u001b[0m \u001b[31m30.4 MB/s\u001b[0m eta \u001b[36m0:00:00\u001b[0m\n",
            "\u001b[?25h  Preparing metadata (setup.py) ... \u001b[?25l\u001b[?25hdone\n",
            "\u001b[2K     \u001b[90m━━━━━━━━━━━━━━━━━━━━━━━━━━━━━━━━━━━━━━━━\u001b[0m \u001b[32m89.7/89.7 kB\u001b[0m \u001b[31m6.3 MB/s\u001b[0m eta \u001b[36m0:00:00\u001b[0m\n",
            "\u001b[?25h  Preparing metadata (setup.py) ... \u001b[?25l\u001b[?25hdone\n",
            "  Preparing metadata (setup.py) ... \u001b[?25l\u001b[?25hdone\n",
            "  Preparing metadata (setup.py) ... \u001b[?25l\u001b[?25hdone\n",
            "  Preparing metadata (setup.py) ... \u001b[?25l\u001b[?25hdone\n",
            "\u001b[2K   \u001b[90m━━━━━━━━━━━━━━━━━━━━━━━━━━━━━━━━━━━━━━━━\u001b[0m \u001b[32m178.1/178.1 kB\u001b[0m \u001b[31m9.4 MB/s\u001b[0m eta \u001b[36m0:00:00\u001b[0m\n",
            "\u001b[2K   \u001b[90m━━━━━━━━━━━━━━━━━━━━━━━━━━━━━━━━━━━━━━━━\u001b[0m \u001b[32m96.6/96.6 kB\u001b[0m \u001b[31m6.6 MB/s\u001b[0m eta \u001b[36m0:00:00\u001b[0m\n",
            "\u001b[2K   \u001b[90m━━━━━━━━━━━━━━━━━━━━━━━━━━━━━━━━━━━━━━━━\u001b[0m \u001b[32m43.7/43.7 kB\u001b[0m \u001b[31m2.6 MB/s\u001b[0m eta \u001b[36m0:00:00\u001b[0m\n",
            "\u001b[2K   \u001b[90m━━━━━━━━━━━━━━━━━━━━━━━━━━━━━━━━━━━━━━━━\u001b[0m \u001b[32m135.7/135.7 kB\u001b[0m \u001b[31m9.5 MB/s\u001b[0m eta \u001b[36m0:00:00\u001b[0m\n",
            "\u001b[2K   \u001b[90m━━━━━━━━━━━━━━━━━━━━━━━━━━━━━━━━━━━━━━━━\u001b[0m \u001b[32m1.4/1.4 MB\u001b[0m \u001b[31m49.8 MB/s\u001b[0m eta \u001b[36m0:00:00\u001b[0m\n",
            "\u001b[?25h  Building wheel for gsutil (setup.py) ... \u001b[?25l\u001b[?25hdone\n",
            "  Building wheel for crcmod (setup.py) ... \u001b[?25l\u001b[?25hdone\n",
            "  Building wheel for gcs-oauth2-boto-plugin (setup.py) ... \u001b[?25l\u001b[?25hdone\n",
            "  Building wheel for retry_decorator (setup.py) ... \u001b[?25l\u001b[?25hdone\n",
            "  Building wheel for pyu2f (setup.py) ... \u001b[?25l\u001b[?25hdone\n",
            "\u001b[31mERROR: pip's dependency resolver does not currently take into account all the packages that are installed. This behaviour is the source of the following dependency conflicts.\n",
            "google-colab 1.0.0 requires google-auth==2.38.0, but you have google-auth 2.17.0 which is incompatible.\n",
            "google-cloud-storage 2.19.0 requires google-auth<3.0dev,>=2.26.1, but you have google-auth 2.17.0 which is incompatible.\u001b[0m\u001b[31m\n",
            "\u001b[0m"
          ]
        }
      ],
      "source": [
        "!pip install -q gsutil"
      ]
    },
    {
      "cell_type": "code",
      "source": [
        "!mkdir test\n",
        "!gsutil -m cp \"gs://arxiv-dataset/arxiv/arxiv/pdf/2003/*\" ./test/"
      ],
      "metadata": {
        "colab": {
          "base_uri": "https://localhost:8080/"
        },
        "id": "TreUluOT3xlC",
        "outputId": "0d467323-c80a-4b49-d73f-94b85058f7b5"
      },
      "execution_count": 6,
      "outputs": [
        {
          "output_type": "stream",
          "name": "stdout",
          "text": [
            "mkdir: cannot create directory ‘test’: File exists\n",
            "Copying gs://arxiv-dataset/arxiv/arxiv/pdf/2003/2003.00001v1.pdf...\n",
            "Copying gs://arxiv-dataset/arxiv/arxiv/pdf/2003/2003.00002v1.pdf...\n",
            "Copying gs://arxiv-dataset/arxiv/arxiv/pdf/2003/2003.00003v1.pdf...\n",
            "Copying gs://arxiv-dataset/arxiv/arxiv/pdf/2003/2003.00004v1.pdf...\n",
            "Copying gs://arxiv-dataset/arxiv/arxiv/pdf/2003/2003.00005v1.pdf...\n",
            "Copying gs://arxiv-dataset/arxiv/arxiv/pdf/2003/2003.00005v2.pdf...\n",
            "Copying gs://arxiv-dataset/arxiv/arxiv/pdf/2003/2003.00006v1.pdf...\n",
            "Copying gs://arxiv-dataset/arxiv/arxiv/pdf/2003/2003.00007v1.pdf...\n",
            "Copying gs://arxiv-dataset/arxiv/arxiv/pdf/2003/2003.00007v2.pdf...\n",
            "Copying gs://arxiv-dataset/arxiv/arxiv/pdf/2003/2003.00008v1.pdf...\n",
            "Copying gs://arxiv-dataset/arxiv/arxiv/pdf/2003/2003.00008v2.pdf...\n",
            "Copying gs://arxiv-dataset/arxiv/arxiv/pdf/2003/2003.00009v1.pdf...\n",
            "Copying gs://arxiv-dataset/arxiv/arxiv/pdf/2003/2003.00010v1.pdf...\n",
            "Copying gs://arxiv-dataset/arxiv/arxiv/pdf/2003/2003.00010v2.pdf...\n",
            "Copying gs://arxiv-dataset/arxiv/arxiv/pdf/2003/2003.00011v1.pdf...\n",
            "Copying gs://arxiv-dataset/arxiv/arxiv/pdf/2003/2003.00011v2.pdf...\n",
            "Copying gs://arxiv-dataset/arxiv/arxiv/pdf/2003/2003.00012v1.pdf...\n",
            "Copying gs://arxiv-dataset/arxiv/arxiv/pdf/2003/2003.00012v2.pdf...\n",
            "Copying gs://arxiv-dataset/arxiv/arxiv/pdf/2003/2003.00013v1.pdf...\n",
            "Copying gs://arxiv-dataset/arxiv/arxiv/pdf/2003/2003.00013v2.pdf...\n",
            "Copying gs://arxiv-dataset/arxiv/arxiv/pdf/2003/2003.00013v3.pdf...\n",
            "Copying gs://arxiv-dataset/arxiv/arxiv/pdf/2003/2003.00014v1.pdf...\n",
            "Copying gs://arxiv-dataset/arxiv/arxiv/pdf/2003/2003.00014v2.pdf...\n",
            "Copying gs://arxiv-dataset/arxiv/arxiv/pdf/2003/2003.00015v1.pdf...\n",
            "Copying gs://arxiv-dataset/arxiv/arxiv/pdf/2003/2003.00016v1.pdf...\n",
            "Copying gs://arxiv-dataset/arxiv/arxiv/pdf/2003/2003.00017v1.pdf...\n",
            "Copying gs://arxiv-dataset/arxiv/arxiv/pdf/2003/2003.00017v2.pdf...\n",
            "Copying gs://arxiv-dataset/arxiv/arxiv/pdf/2003/2003.00017v3.pdf...\n",
            "Copying gs://arxiv-dataset/arxiv/arxiv/pdf/2003/2003.00017v4.pdf...\n",
            "Copying gs://arxiv-dataset/arxiv/arxiv/pdf/2003/2003.00018v1.pdf...\n",
            "Copying gs://arxiv-dataset/arxiv/arxiv/pdf/2003/2003.00019v1.pdf...\n",
            "Copying gs://arxiv-dataset/arxiv/arxiv/pdf/2003/2003.00019v2.pdf...\n",
            "Copying gs://arxiv-dataset/arxiv/arxiv/pdf/2003/2003.00020v1.pdf...\n",
            "Copying gs://arxiv-dataset/arxiv/arxiv/pdf/2003/2003.00021v1.pdf...\n",
            "Copying gs://arxiv-dataset/arxiv/arxiv/pdf/2003/2003.00021v2.pdf...\n",
            "Copying gs://arxiv-dataset/arxiv/arxiv/pdf/2003/2003.00021v3.pdf...\n",
            "Copying gs://arxiv-dataset/arxiv/arxiv/pdf/2003/2003.00022v1.pdf...\n",
            "Copying gs://arxiv-dataset/arxiv/arxiv/pdf/2003/2003.00022v2.pdf...\n",
            "Copying gs://arxiv-dataset/arxiv/arxiv/pdf/2003/2003.00022v3.pdf...\n",
            "Copying gs://arxiv-dataset/arxiv/arxiv/pdf/2003/2003.00023v1.pdf...\n",
            "Copying gs://arxiv-dataset/arxiv/arxiv/pdf/2003/2003.00023v2.pdf...\n",
            "Copying gs://arxiv-dataset/arxiv/arxiv/pdf/2003/2003.00024v1.pdf...\n",
            "Copying gs://arxiv-dataset/arxiv/arxiv/pdf/2003/2003.00025v1.pdf...\n",
            "Copying gs://arxiv-dataset/arxiv/arxiv/pdf/2003/2003.00025v2.pdf...\n",
            "Copying gs://arxiv-dataset/arxiv/arxiv/pdf/2003/2003.00026v1.pdf...\n",
            "Copying gs://arxiv-dataset/arxiv/arxiv/pdf/2003/2003.00026v2.pdf...\n",
            "Copying gs://arxiv-dataset/arxiv/arxiv/pdf/2003/2003.00026v3.pdf...\n",
            "Copying gs://arxiv-dataset/arxiv/arxiv/pdf/2003/2003.00027v1.pdf...\n",
            "Copying gs://arxiv-dataset/arxiv/arxiv/pdf/2003/2003.00027v2.pdf...\n",
            "Copying gs://arxiv-dataset/arxiv/arxiv/pdf/2003/2003.00028v1.pdf...\n",
            "Copying gs://arxiv-dataset/arxiv/arxiv/pdf/2003/2003.00029v1.pdf...\n",
            "Copying gs://arxiv-dataset/arxiv/arxiv/pdf/2003/2003.00030v1.pdf...\n",
            "Copying gs://arxiv-dataset/arxiv/arxiv/pdf/2003/2003.00030v2.pdf...\n",
            "Copying gs://arxiv-dataset/arxiv/arxiv/pdf/2003/2003.00031v1.pdf...\n",
            "Copying gs://arxiv-dataset/arxiv/arxiv/pdf/2003/2003.00032v1.pdf...\n",
            "Copying gs://arxiv-dataset/arxiv/arxiv/pdf/2003/2003.00032v2.pdf...\n",
            "Copying gs://arxiv-dataset/arxiv/arxiv/pdf/2003/2003.00034v1.pdf...\n",
            "Copying gs://arxiv-dataset/arxiv/arxiv/pdf/2003/2003.00033v1.pdf...\n",
            "Copying gs://arxiv-dataset/arxiv/arxiv/pdf/2003/2003.00034v2.pdf...\n",
            "Copying gs://arxiv-dataset/arxiv/arxiv/pdf/2003/2003.00035v1.pdf...\n",
            "Copying gs://arxiv-dataset/arxiv/arxiv/pdf/2003/2003.00036v1.pdf...\n",
            "Copying gs://arxiv-dataset/arxiv/arxiv/pdf/2003/2003.00037v1.pdf...\n",
            "Copying gs://arxiv-dataset/arxiv/arxiv/pdf/2003/2003.00037v2.pdf...\n",
            "Copying gs://arxiv-dataset/arxiv/arxiv/pdf/2003/2003.00037v3.pdf...\n",
            "Copying gs://arxiv-dataset/arxiv/arxiv/pdf/2003/2003.00038v1.pdf...\n",
            "Copying gs://arxiv-dataset/arxiv/arxiv/pdf/2003/2003.00039v1.pdf...\n",
            "Copying gs://arxiv-dataset/arxiv/arxiv/pdf/2003/2003.00040v1.pdf...\n",
            "Copying gs://arxiv-dataset/arxiv/arxiv/pdf/2003/2003.00040v2.pdf...\n",
            "Copying gs://arxiv-dataset/arxiv/arxiv/pdf/2003/2003.00041v1.pdf...\n",
            "Copying gs://arxiv-dataset/arxiv/arxiv/pdf/2003/2003.00041v2.pdf...\n",
            "Copying gs://arxiv-dataset/arxiv/arxiv/pdf/2003/2003.00042v1.pdf...\n",
            "Copying gs://arxiv-dataset/arxiv/arxiv/pdf/2003/2003.00043v1.pdf...\n",
            "Copying gs://arxiv-dataset/arxiv/arxiv/pdf/2003/2003.00044v1.pdf...\n",
            "Copying gs://arxiv-dataset/arxiv/arxiv/pdf/2003/2003.00045v1.pdf...\n",
            "Copying gs://arxiv-dataset/arxiv/arxiv/pdf/2003/2003.00046v1.pdf...\n",
            "Copying gs://arxiv-dataset/arxiv/arxiv/pdf/2003/2003.00047v1.pdf...\n",
            "Copying gs://arxiv-dataset/arxiv/arxiv/pdf/2003/2003.00047v2.pdf...\n",
            "Copying gs://arxiv-dataset/arxiv/arxiv/pdf/2003/2003.00048v1.pdf...\n",
            "Copying gs://arxiv-dataset/arxiv/arxiv/pdf/2003/2003.00049v1.pdf...\n",
            "Copying gs://arxiv-dataset/arxiv/arxiv/pdf/2003/2003.00050v1.pdf...\n",
            "Copying gs://arxiv-dataset/arxiv/arxiv/pdf/2003/2003.00051v1.pdf...\n",
            "Copying gs://arxiv-dataset/arxiv/arxiv/pdf/2003/2003.00052v1.pdf...\n",
            "Copying gs://arxiv-dataset/arxiv/arxiv/pdf/2003/2003.00053v1.pdf...\n",
            "Copying gs://arxiv-dataset/arxiv/arxiv/pdf/2003/2003.00054v1.pdf...\n",
            "Copying gs://arxiv-dataset/arxiv/arxiv/pdf/2003/2003.00055v1.pdf...\n",
            "Copying gs://arxiv-dataset/arxiv/arxiv/pdf/2003/2003.00056v1.pdf...\n",
            "Copying gs://arxiv-dataset/arxiv/arxiv/pdf/2003/2003.00056v2.pdf...\n",
            "Copying gs://arxiv-dataset/arxiv/arxiv/pdf/2003/2003.00056v3.pdf...\n",
            "Copying gs://arxiv-dataset/arxiv/arxiv/pdf/2003/2003.00057v1.pdf...\n",
            "Copying gs://arxiv-dataset/arxiv/arxiv/pdf/2003/2003.00058v1.pdf...\n",
            "Copying gs://arxiv-dataset/arxiv/arxiv/pdf/2003/2003.00059v1.pdf...\n",
            "Copying gs://arxiv-dataset/arxiv/arxiv/pdf/2003/2003.00060v1.pdf...\n",
            "Copying gs://arxiv-dataset/arxiv/arxiv/pdf/2003/2003.00061v1.pdf...\n",
            "Copying gs://arxiv-dataset/arxiv/arxiv/pdf/2003/2003.00062v1.pdf...\n",
            "Copying gs://arxiv-dataset/arxiv/arxiv/pdf/2003/2003.00063v1.pdf...\n",
            "Copying gs://arxiv-dataset/arxiv/arxiv/pdf/2003/2003.00062v2.pdf...\n",
            "Copying gs://arxiv-dataset/arxiv/arxiv/pdf/2003/2003.00063v2.pdf...\n",
            "Copying gs://arxiv-dataset/arxiv/arxiv/pdf/2003/2003.00064v1.pdf...\n",
            "Copying gs://arxiv-dataset/arxiv/arxiv/pdf/2003/2003.00064v2.pdf...\n",
            "Copying gs://arxiv-dataset/arxiv/arxiv/pdf/2003/2003.00065v1.pdf...\n",
            "Copying gs://arxiv-dataset/arxiv/arxiv/pdf/2003/2003.00065v2.pdf...\n",
            "Copying gs://arxiv-dataset/arxiv/arxiv/pdf/2003/2003.00066v1.pdf...\n",
            "Copying gs://arxiv-dataset/arxiv/arxiv/pdf/2003/2003.00066v2.pdf...\n",
            "Copying gs://arxiv-dataset/arxiv/arxiv/pdf/2003/2003.00067v1.pdf...\n",
            "Copying gs://arxiv-dataset/arxiv/arxiv/pdf/2003/2003.00067v2.pdf...\n",
            "Copying gs://arxiv-dataset/arxiv/arxiv/pdf/2003/2003.00068v1.pdf...\n",
            "Copying gs://arxiv-dataset/arxiv/arxiv/pdf/2003/2003.00069v1.pdf...\n",
            "Copying gs://arxiv-dataset/arxiv/arxiv/pdf/2003/2003.00069v2.pdf...\n",
            "Copying gs://arxiv-dataset/arxiv/arxiv/pdf/2003/2003.00070v1.pdf...\n",
            "Copying gs://arxiv-dataset/arxiv/arxiv/pdf/2003/2003.00071v1.pdf...\n",
            "Copying gs://arxiv-dataset/arxiv/arxiv/pdf/2003/2003.00071v2.pdf...\n",
            "Copying gs://arxiv-dataset/arxiv/arxiv/pdf/2003/2003.00072v1.pdf...\n",
            "Copying gs://arxiv-dataset/arxiv/arxiv/pdf/2003/2003.00072v2.pdf...\n",
            "Copying gs://arxiv-dataset/arxiv/arxiv/pdf/2003/2003.00073v1.pdf...\n",
            "Copying gs://arxiv-dataset/arxiv/arxiv/pdf/2003/2003.00074v1.pdf...\n",
            "Copying gs://arxiv-dataset/arxiv/arxiv/pdf/2003/2003.00075v1.pdf...\n",
            "Copying gs://arxiv-dataset/arxiv/arxiv/pdf/2003/2003.00075v2.pdf...\n",
            "Copying gs://arxiv-dataset/arxiv/arxiv/pdf/2003/2003.00076v1.pdf...\n",
            "Copying gs://arxiv-dataset/arxiv/arxiv/pdf/2003/2003.00076v2.pdf...\n",
            "Copying gs://arxiv-dataset/arxiv/arxiv/pdf/2003/2003.00077v1.pdf...\n",
            "Copying gs://arxiv-dataset/arxiv/arxiv/pdf/2003/2003.00078v1.pdf...\n",
            "Copying gs://arxiv-dataset/arxiv/arxiv/pdf/2003/2003.00079v1.pdf...\n",
            "Copying gs://arxiv-dataset/arxiv/arxiv/pdf/2003/2003.00079v2.pdf...\n",
            "Copying gs://arxiv-dataset/arxiv/arxiv/pdf/2003/2003.00080v1.pdf...\n",
            "Copying gs://arxiv-dataset/arxiv/arxiv/pdf/2003/2003.00081v1.pdf...\n",
            "Copying gs://arxiv-dataset/arxiv/arxiv/pdf/2003/2003.00082v1.pdf...\n",
            "Copying gs://arxiv-dataset/arxiv/arxiv/pdf/2003/2003.00083v1.pdf...\n",
            "Copying gs://arxiv-dataset/arxiv/arxiv/pdf/2003/2003.00084v1.pdf...\n",
            "Copying gs://arxiv-dataset/arxiv/arxiv/pdf/2003/2003.00084v2.pdf...\n",
            "Copying gs://arxiv-dataset/arxiv/arxiv/pdf/2003/2003.00084v3.pdf...\n",
            "Copying gs://arxiv-dataset/arxiv/arxiv/pdf/2003/2003.00085v1.pdf...\n",
            "Copying gs://arxiv-dataset/arxiv/arxiv/pdf/2003/2003.00085v2.pdf...\n",
            "Copying gs://arxiv-dataset/arxiv/arxiv/pdf/2003/2003.00086v1.pdf...\n",
            "Copying gs://arxiv-dataset/arxiv/arxiv/pdf/2003/2003.00087v1.pdf...\n",
            "Copying gs://arxiv-dataset/arxiv/arxiv/pdf/2003/2003.00088v1.pdf...\n",
            "Copying gs://arxiv-dataset/arxiv/arxiv/pdf/2003/2003.00089v1.pdf...\n",
            "Copying gs://arxiv-dataset/arxiv/arxiv/pdf/2003/2003.00090v1.pdf...\n",
            "Copying gs://arxiv-dataset/arxiv/arxiv/pdf/2003/2003.00091v1.pdf...\n",
            "Copying gs://arxiv-dataset/arxiv/arxiv/pdf/2003/2003.00091v2.pdf...\n",
            "Copying gs://arxiv-dataset/arxiv/arxiv/pdf/2003/2003.00092v1.pdf...\n",
            "Copying gs://arxiv-dataset/arxiv/arxiv/pdf/2003/2003.00093v1.pdf...\n",
            "Copying gs://arxiv-dataset/arxiv/arxiv/pdf/2003/2003.00094v1.pdf...\n",
            "Copying gs://arxiv-dataset/arxiv/arxiv/pdf/2003/2003.00095v1.pdf...\n",
            "Copying gs://arxiv-dataset/arxiv/arxiv/pdf/2003/2003.00095v2.pdf...\n",
            "Copying gs://arxiv-dataset/arxiv/arxiv/pdf/2003/2003.00095v3.pdf...\n",
            "Copying gs://arxiv-dataset/arxiv/arxiv/pdf/2003/2003.00096v1.pdf...\n",
            "Copying gs://arxiv-dataset/arxiv/arxiv/pdf/2003/2003.00096v2.pdf...\n",
            "Copying gs://arxiv-dataset/arxiv/arxiv/pdf/2003/2003.00096v3.pdf...\n",
            "Copying gs://arxiv-dataset/arxiv/arxiv/pdf/2003/2003.00097v1.pdf...\n",
            "Copying gs://arxiv-dataset/arxiv/arxiv/pdf/2003/2003.00097v2.pdf...\n",
            "Copying gs://arxiv-dataset/arxiv/arxiv/pdf/2003/2003.00098v1.pdf...\n",
            "Copying gs://arxiv-dataset/arxiv/arxiv/pdf/2003/2003.00099v1.pdf...\n",
            "Copying gs://arxiv-dataset/arxiv/arxiv/pdf/2003/2003.00100v1.pdf...\n",
            "Copying gs://arxiv-dataset/arxiv/arxiv/pdf/2003/2003.00100v2.pdf...\n",
            "Copying gs://arxiv-dataset/arxiv/arxiv/pdf/2003/2003.00101v1.pdf...\n",
            "Copying gs://arxiv-dataset/arxiv/arxiv/pdf/2003/2003.00102v1.pdf...\n",
            "Copying gs://arxiv-dataset/arxiv/arxiv/pdf/2003/2003.00104v1.pdf...\n",
            "Copying gs://arxiv-dataset/arxiv/arxiv/pdf/2003/2003.00103v1.pdf...\n",
            "Copying gs://arxiv-dataset/arxiv/arxiv/pdf/2003/2003.00104v2.pdf...\n",
            "Copying gs://arxiv-dataset/arxiv/arxiv/pdf/2003/2003.00104v3.pdf...\n",
            "Copying gs://arxiv-dataset/arxiv/arxiv/pdf/2003/2003.00104v4.pdf...\n",
            "Copying gs://arxiv-dataset/arxiv/arxiv/pdf/2003/2003.00105v1.pdf...\n",
            "Copying gs://arxiv-dataset/arxiv/arxiv/pdf/2003/2003.00107v1.pdf...\n",
            "Copying gs://arxiv-dataset/arxiv/arxiv/pdf/2003/2003.00106v1.pdf...\n",
            "Copying gs://arxiv-dataset/arxiv/arxiv/pdf/2003/2003.00107v2.pdf...\n",
            "Copying gs://arxiv-dataset/arxiv/arxiv/pdf/2003/2003.00107v3.pdf...\n",
            "Copying gs://arxiv-dataset/arxiv/arxiv/pdf/2003/2003.00107v4.pdf...\n",
            "Copying gs://arxiv-dataset/arxiv/arxiv/pdf/2003/2003.00107v5.pdf...\n",
            "Copying gs://arxiv-dataset/arxiv/arxiv/pdf/2003/2003.00108v1.pdf...\n",
            "Copying gs://arxiv-dataset/arxiv/arxiv/pdf/2003/2003.00109v2.pdf...\n",
            "Copying gs://arxiv-dataset/arxiv/arxiv/pdf/2003/2003.00109v1.pdf...\n",
            "Copying gs://arxiv-dataset/arxiv/arxiv/pdf/2003/2003.00110v1.pdf...\n",
            "Copying gs://arxiv-dataset/arxiv/arxiv/pdf/2003/2003.00110v2.pdf...\n",
            "Copying gs://arxiv-dataset/arxiv/arxiv/pdf/2003/2003.00110v3.pdf...\n",
            "Copying gs://arxiv-dataset/arxiv/arxiv/pdf/2003/2003.00111v1.pdf...\n",
            "Copying gs://arxiv-dataset/arxiv/arxiv/pdf/2003/2003.00111v2.pdf...\n",
            "Copying gs://arxiv-dataset/arxiv/arxiv/pdf/2003/2003.00112v1.pdf...\n",
            "Copying gs://arxiv-dataset/arxiv/arxiv/pdf/2003/2003.00113v1.pdf...\n",
            "Copying gs://arxiv-dataset/arxiv/arxiv/pdf/2003/2003.00114v1.pdf...\n",
            "Copying gs://arxiv-dataset/arxiv/arxiv/pdf/2003/2003.00114v2.pdf...\n",
            "Copying gs://arxiv-dataset/arxiv/arxiv/pdf/2003/2003.00115v1.pdf...\n",
            "Copying gs://arxiv-dataset/arxiv/arxiv/pdf/2003/2003.00115v2.pdf...\n",
            "Copying gs://arxiv-dataset/arxiv/arxiv/pdf/2003/2003.00115v3.pdf...\n",
            "Copying gs://arxiv-dataset/arxiv/arxiv/pdf/2003/2003.00116v1.pdf...\n",
            "Copying gs://arxiv-dataset/arxiv/arxiv/pdf/2003/2003.00116v2.pdf...\n",
            "Copying gs://arxiv-dataset/arxiv/arxiv/pdf/2003/2003.00117v1.pdf...\n",
            "Copying gs://arxiv-dataset/arxiv/arxiv/pdf/2003/2003.00118v1.pdf...\n",
            "Copying gs://arxiv-dataset/arxiv/arxiv/pdf/2003/2003.00119v1.pdf...\n",
            "Copying gs://arxiv-dataset/arxiv/arxiv/pdf/2003/2003.00120v1.pdf...\n",
            "Copying gs://arxiv-dataset/arxiv/arxiv/pdf/2003/2003.00120v2.pdf...\n",
            "Copying gs://arxiv-dataset/arxiv/arxiv/pdf/2003/2003.00120v3.pdf...\n",
            "Copying gs://arxiv-dataset/arxiv/arxiv/pdf/2003/2003.00120v4.pdf...\n",
            "Copying gs://arxiv-dataset/arxiv/arxiv/pdf/2003/2003.00120v5.pdf...\n",
            "Copying gs://arxiv-dataset/arxiv/arxiv/pdf/2003/2003.00120v6.pdf...\n",
            "Copying gs://arxiv-dataset/arxiv/arxiv/pdf/2003/2003.00120v7.pdf...\n",
            "Copying gs://arxiv-dataset/arxiv/arxiv/pdf/2003/2003.00120v8.pdf...\n",
            "Copying gs://arxiv-dataset/arxiv/arxiv/pdf/2003/2003.00120v9.pdf...\n",
            "Copying gs://arxiv-dataset/arxiv/arxiv/pdf/2003/2003.00121v1.pdf...\n",
            "Copying gs://arxiv-dataset/arxiv/arxiv/pdf/2003/2003.00122v1.pdf...\n",
            "Copying gs://arxiv-dataset/arxiv/arxiv/pdf/2003/2003.00122v2.pdf...\n",
            "Copying gs://arxiv-dataset/arxiv/arxiv/pdf/2003/2003.00122v3.pdf...\n",
            "Copying gs://arxiv-dataset/arxiv/arxiv/pdf/2003/2003.00122v4.pdf...\n",
            "Copying gs://arxiv-dataset/arxiv/arxiv/pdf/2003/2003.00122v5.pdf...\n",
            "Copying gs://arxiv-dataset/arxiv/arxiv/pdf/2003/2003.00122v6.pdf...\n",
            "Copying gs://arxiv-dataset/arxiv/arxiv/pdf/2003/2003.00123v1.pdf...\n",
            "Copying gs://arxiv-dataset/arxiv/arxiv/pdf/2003/2003.00123v2.pdf...\n",
            "Copying gs://arxiv-dataset/arxiv/arxiv/pdf/2003/2003.00124v1.pdf...\n",
            "Copying gs://arxiv-dataset/arxiv/arxiv/pdf/2003/2003.00124v2.pdf...\n",
            "Copying gs://arxiv-dataset/arxiv/arxiv/pdf/2003/2003.00125v1.pdf...\n",
            "Copying gs://arxiv-dataset/arxiv/arxiv/pdf/2003/2003.00124v3.pdf...\n",
            "Copying gs://arxiv-dataset/arxiv/arxiv/pdf/2003/2003.00126v1.pdf...\n",
            "Copying gs://arxiv-dataset/arxiv/arxiv/pdf/2003/2003.00126v2.pdf...\n",
            "Copying gs://arxiv-dataset/arxiv/arxiv/pdf/2003/2003.00127v1.pdf...\n",
            "Copying gs://arxiv-dataset/arxiv/arxiv/pdf/2003/2003.00129v1.pdf...\n",
            "Copying gs://arxiv-dataset/arxiv/arxiv/pdf/2003/2003.00128v1.pdf...\n",
            "Copying gs://arxiv-dataset/arxiv/arxiv/pdf/2003/2003.00130v1.pdf...\n",
            "Copying gs://arxiv-dataset/arxiv/arxiv/pdf/2003/2003.00131v1.pdf...\n",
            "Copying gs://arxiv-dataset/arxiv/arxiv/pdf/2003/2003.00132v1.pdf...\n",
            "Copying gs://arxiv-dataset/arxiv/arxiv/pdf/2003/2003.00133v1.pdf...\n",
            "Copying gs://arxiv-dataset/arxiv/arxiv/pdf/2003/2003.00134v1.pdf...\n",
            "Copying gs://arxiv-dataset/arxiv/arxiv/pdf/2003/2003.00134v2.pdf...\n",
            "Copying gs://arxiv-dataset/arxiv/arxiv/pdf/2003/2003.00134v3.pdf...\n",
            "Copying gs://arxiv-dataset/arxiv/arxiv/pdf/2003/2003.00135v1.pdf...\n",
            "Copying gs://arxiv-dataset/arxiv/arxiv/pdf/2003/2003.00136v1.pdf...\n",
            "Copying gs://arxiv-dataset/arxiv/arxiv/pdf/2003/2003.00136v2.pdf...\n",
            "Copying gs://arxiv-dataset/arxiv/arxiv/pdf/2003/2003.00137v1.pdf...\n",
            "Copying gs://arxiv-dataset/arxiv/arxiv/pdf/2003/2003.00137v2.pdf...\n",
            "Copying gs://arxiv-dataset/arxiv/arxiv/pdf/2003/2003.00138v1.pdf...\n",
            "Copying gs://arxiv-dataset/arxiv/arxiv/pdf/2003/2003.00139v1.pdf...\n",
            "Copying gs://arxiv-dataset/arxiv/arxiv/pdf/2003/2003.00139v2.pdf...\n",
            "Copying gs://arxiv-dataset/arxiv/arxiv/pdf/2003/2003.00139v3.pdf...\n",
            "Copying gs://arxiv-dataset/arxiv/arxiv/pdf/2003/2003.00140v1.pdf...\n",
            "Copying gs://arxiv-dataset/arxiv/arxiv/pdf/2003/2003.00140v2.pdf...\n",
            "Copying gs://arxiv-dataset/arxiv/arxiv/pdf/2003/2003.00140v3.pdf...\n",
            "Copying gs://arxiv-dataset/arxiv/arxiv/pdf/2003/2003.00140v4.pdf...\n",
            "Copying gs://arxiv-dataset/arxiv/arxiv/pdf/2003/2003.00140v5.pdf...\n",
            "Copying gs://arxiv-dataset/arxiv/arxiv/pdf/2003/2003.00141v1.pdf...\n",
            "Copying gs://arxiv-dataset/arxiv/arxiv/pdf/2003/2003.00141v2.pdf...\n",
            "Copying gs://arxiv-dataset/arxiv/arxiv/pdf/2003/2003.00141v3.pdf...\n",
            "Copying gs://arxiv-dataset/arxiv/arxiv/pdf/2003/2003.00142v1.pdf...\n",
            "Copying gs://arxiv-dataset/arxiv/arxiv/pdf/2003/2003.00142v2.pdf...\n",
            "Copying gs://arxiv-dataset/arxiv/arxiv/pdf/2003/2003.00143v1.pdf...\n",
            "Copying gs://arxiv-dataset/arxiv/arxiv/pdf/2003/2003.00143v2.pdf...\n",
            "Copying gs://arxiv-dataset/arxiv/arxiv/pdf/2003/2003.00143v3.pdf...\n",
            "Copying gs://arxiv-dataset/arxiv/arxiv/pdf/2003/2003.00144v1.pdf...\n",
            "Copying gs://arxiv-dataset/arxiv/arxiv/pdf/2003/2003.00145v1.pdf...\n",
            "Copying gs://arxiv-dataset/arxiv/arxiv/pdf/2003/2003.00145v2.pdf...\n",
            "Copying gs://arxiv-dataset/arxiv/arxiv/pdf/2003/2003.00146v1.pdf...\n",
            "Copying gs://arxiv-dataset/arxiv/arxiv/pdf/2003/2003.00146v2.pdf...\n",
            "Copying gs://arxiv-dataset/arxiv/arxiv/pdf/2003/2003.00147v1.pdf...\n",
            "Copying gs://arxiv-dataset/arxiv/arxiv/pdf/2003/2003.00147v2.pdf...\n",
            "Copying gs://arxiv-dataset/arxiv/arxiv/pdf/2003/2003.00147v3.pdf...\n",
            "Copying gs://arxiv-dataset/arxiv/arxiv/pdf/2003/2003.00148v1.pdf...\n",
            "Copying gs://arxiv-dataset/arxiv/arxiv/pdf/2003/2003.00148v2.pdf...\n",
            "Copying gs://arxiv-dataset/arxiv/arxiv/pdf/2003/2003.00149v1.pdf...\n",
            "Copying gs://arxiv-dataset/arxiv/arxiv/pdf/2003/2003.00149v2.pdf...\n",
            "Copying gs://arxiv-dataset/arxiv/arxiv/pdf/2003/2003.00149v3.pdf...\n",
            "Copying gs://arxiv-dataset/arxiv/arxiv/pdf/2003/2003.00149v4.pdf...\n",
            "Copying gs://arxiv-dataset/arxiv/arxiv/pdf/2003/2003.00150v1.pdf...\n",
            "Copying gs://arxiv-dataset/arxiv/arxiv/pdf/2003/2003.00151v1.pdf...\n",
            "Copying gs://arxiv-dataset/arxiv/arxiv/pdf/2003/2003.00152v1.pdf...\n",
            "Copying gs://arxiv-dataset/arxiv/arxiv/pdf/2003/2003.00152v2.pdf...\n",
            "Copying gs://arxiv-dataset/arxiv/arxiv/pdf/2003/2003.00152v3.pdf...\n",
            "Copying gs://arxiv-dataset/arxiv/arxiv/pdf/2003/2003.00153v1.pdf...\n",
            "Copying gs://arxiv-dataset/arxiv/arxiv/pdf/2003/2003.00153v2.pdf...\n",
            "Copying gs://arxiv-dataset/arxiv/arxiv/pdf/2003/2003.00153v3.pdf...\n",
            "Copying gs://arxiv-dataset/arxiv/arxiv/pdf/2003/2003.00154v1.pdf...\n",
            "Copying gs://arxiv-dataset/arxiv/arxiv/pdf/2003/2003.00155v1.pdf...\n",
            "Copying gs://arxiv-dataset/arxiv/arxiv/pdf/2003/2003.00156v1.pdf...\n",
            "Copying gs://arxiv-dataset/arxiv/arxiv/pdf/2003/2003.00157v1.pdf...\n",
            "Copying gs://arxiv-dataset/arxiv/arxiv/pdf/2003/2003.00158v1.pdf...\n",
            "Copying gs://arxiv-dataset/arxiv/arxiv/pdf/2003/2003.00159v1.pdf...\n",
            "Copying gs://arxiv-dataset/arxiv/arxiv/pdf/2003/2003.00160v1.pdf...\n",
            "Copying gs://arxiv-dataset/arxiv/arxiv/pdf/2003/2003.00160v2.pdf...\n",
            "Copying gs://arxiv-dataset/arxiv/arxiv/pdf/2003/2003.00160v3.pdf...\n",
            "Copying gs://arxiv-dataset/arxiv/arxiv/pdf/2003/2003.00160v4.pdf...\n",
            "Copying gs://arxiv-dataset/arxiv/arxiv/pdf/2003/2003.00161v1.pdf...\n",
            "Copying gs://arxiv-dataset/arxiv/arxiv/pdf/2003/2003.00162v1.pdf...\n",
            "Copying gs://arxiv-dataset/arxiv/arxiv/pdf/2003/2003.00163v1.pdf...\n",
            "Copying gs://arxiv-dataset/arxiv/arxiv/pdf/2003/2003.00163v2.pdf...\n",
            "Copying gs://arxiv-dataset/arxiv/arxiv/pdf/2003/2003.00164v1.pdf...\n",
            "Copying gs://arxiv-dataset/arxiv/arxiv/pdf/2003/2003.00165v1.pdf...\n",
            "Copying gs://arxiv-dataset/arxiv/arxiv/pdf/2003/2003.00165v2.pdf...\n",
            "Copying gs://arxiv-dataset/arxiv/arxiv/pdf/2003/2003.00165v3.pdf...\n",
            "Copying gs://arxiv-dataset/arxiv/arxiv/pdf/2003/2003.00165v4.pdf...\n",
            "Copying gs://arxiv-dataset/arxiv/arxiv/pdf/2003/2003.00165v5.pdf...\n",
            "Copying gs://arxiv-dataset/arxiv/arxiv/pdf/2003/2003.00165v6.pdf...\n",
            "Copying gs://arxiv-dataset/arxiv/arxiv/pdf/2003/2003.00166v1.pdf...\n",
            "Copying gs://arxiv-dataset/arxiv/arxiv/pdf/2003/2003.00167v1.pdf...\n",
            "Copying gs://arxiv-dataset/arxiv/arxiv/pdf/2003/2003.00168v1.pdf...\n",
            "Copying gs://arxiv-dataset/arxiv/arxiv/pdf/2003/2003.00168v3.pdf...\n",
            "Copying gs://arxiv-dataset/arxiv/arxiv/pdf/2003/2003.00168v2.pdf...\n",
            "Copying gs://arxiv-dataset/arxiv/arxiv/pdf/2003/2003.00169v1.pdf...\n",
            "Copying gs://arxiv-dataset/arxiv/arxiv/pdf/2003/2003.00170v1.pdf...\n",
            "Copying gs://arxiv-dataset/arxiv/arxiv/pdf/2003/2003.00171v1.pdf...\n",
            "Copying gs://arxiv-dataset/arxiv/arxiv/pdf/2003/2003.00172v1.pdf...\n",
            "Copying gs://arxiv-dataset/arxiv/arxiv/pdf/2003/2003.00173v1.pdf...\n",
            "Copying gs://arxiv-dataset/arxiv/arxiv/pdf/2003/2003.00174v1.pdf...\n",
            "Copying gs://arxiv-dataset/arxiv/arxiv/pdf/2003/2003.00175v1.pdf...\n",
            "Copying gs://arxiv-dataset/arxiv/arxiv/pdf/2003/2003.00176v2.pdf...\n",
            "Copying gs://arxiv-dataset/arxiv/arxiv/pdf/2003/2003.00176v1.pdf...\n",
            "Copying gs://arxiv-dataset/arxiv/arxiv/pdf/2003/2003.00177v1.pdf...\n",
            "Copying gs://arxiv-dataset/arxiv/arxiv/pdf/2003/2003.00178v1.pdf...\n",
            "Copying gs://arxiv-dataset/arxiv/arxiv/pdf/2003/2003.00178v2.pdf...\n",
            "Copying gs://arxiv-dataset/arxiv/arxiv/pdf/2003/2003.00178v3.pdf...\n",
            "Copying gs://arxiv-dataset/arxiv/arxiv/pdf/2003/2003.00178v4.pdf...\n",
            "Copying gs://arxiv-dataset/arxiv/arxiv/pdf/2003/2003.00179v1.pdf...\n",
            "Copying gs://arxiv-dataset/arxiv/arxiv/pdf/2003/2003.00179v2.pdf...\n",
            "Copying gs://arxiv-dataset/arxiv/arxiv/pdf/2003/2003.00181v1.pdf...\n",
            "Copying gs://arxiv-dataset/arxiv/arxiv/pdf/2003/2003.00180v1.pdf...\n",
            "Copying gs://arxiv-dataset/arxiv/arxiv/pdf/2003/2003.00182v1.pdf...\n",
            "Copying gs://arxiv-dataset/arxiv/arxiv/pdf/2003/2003.00182v2.pdf...\n",
            "Copying gs://arxiv-dataset/arxiv/arxiv/pdf/2003/2003.00183v1.pdf...\n",
            "Copying gs://arxiv-dataset/arxiv/arxiv/pdf/2003/2003.00184v1.pdf...\n",
            "Copying gs://arxiv-dataset/arxiv/arxiv/pdf/2003/2003.00185v1.pdf...\n",
            "Copying gs://arxiv-dataset/arxiv/arxiv/pdf/2003/2003.00186v1.pdf...\n",
            "Copying gs://arxiv-dataset/arxiv/arxiv/pdf/2003/2003.00186v2.pdf...\n",
            "Copying gs://arxiv-dataset/arxiv/arxiv/pdf/2003/2003.00187v1.pdf...\n",
            "Copying gs://arxiv-dataset/arxiv/arxiv/pdf/2003/2003.00187v2.pdf...\n",
            "Copying gs://arxiv-dataset/arxiv/arxiv/pdf/2003/2003.00188v1.pdf...\n",
            "Copying gs://arxiv-dataset/arxiv/arxiv/pdf/2003/2003.00188v2.pdf...\n",
            "Copying gs://arxiv-dataset/arxiv/arxiv/pdf/2003/2003.00189v1.pdf...\n",
            "Copying gs://arxiv-dataset/arxiv/arxiv/pdf/2003/2003.00189v2.pdf...\n",
            "Copying gs://arxiv-dataset/arxiv/arxiv/pdf/2003/2003.00189v3.pdf...\n",
            "Copying gs://arxiv-dataset/arxiv/arxiv/pdf/2003/2003.00190v1.pdf...\n",
            "Copying gs://arxiv-dataset/arxiv/arxiv/pdf/2003/2003.00191v1.pdf...\n",
            "Copying gs://arxiv-dataset/arxiv/arxiv/pdf/2003/2003.00191v2.pdf...\n",
            "Copying gs://arxiv-dataset/arxiv/arxiv/pdf/2003/2003.00191v4.pdf...\n",
            "Copying gs://arxiv-dataset/arxiv/arxiv/pdf/2003/2003.00192v1.pdf...\n",
            "Copying gs://arxiv-dataset/arxiv/arxiv/pdf/2003/2003.00194v1.pdf...\n",
            "Copying gs://arxiv-dataset/arxiv/arxiv/pdf/2003/2003.00193v1.pdf...\n",
            "Copying gs://arxiv-dataset/arxiv/arxiv/pdf/2003/2003.00195v1.pdf...\n",
            "Copying gs://arxiv-dataset/arxiv/arxiv/pdf/2003/2003.00195v2.pdf...\n",
            "Copying gs://arxiv-dataset/arxiv/arxiv/pdf/2003/2003.00196v1.pdf...\n",
            "Copying gs://arxiv-dataset/arxiv/arxiv/pdf/2003/2003.00196v2.pdf...\n",
            "Copying gs://arxiv-dataset/arxiv/arxiv/pdf/2003/2003.00196v3.pdf...\n",
            "Copying gs://arxiv-dataset/arxiv/arxiv/pdf/2003/2003.00197v1.pdf...\n",
            "Copying gs://arxiv-dataset/arxiv/arxiv/pdf/2003/2003.00198v1.pdf...\n",
            "Copying gs://arxiv-dataset/arxiv/arxiv/pdf/2003/2003.00198v2.pdf...\n",
            "Copying gs://arxiv-dataset/arxiv/arxiv/pdf/2003/2003.00199v1.pdf...\n",
            "Copying gs://arxiv-dataset/arxiv/arxiv/pdf/2003/2003.00200v1.pdf...\n",
            "Copying gs://arxiv-dataset/arxiv/arxiv/pdf/2003/2003.00201v1.pdf...\n",
            "Copying gs://arxiv-dataset/arxiv/arxiv/pdf/2003/2003.00202v1.pdf...\n",
            "Copying gs://arxiv-dataset/arxiv/arxiv/pdf/2003/2003.00203v1.pdf...\n",
            "Copying gs://arxiv-dataset/arxiv/arxiv/pdf/2003/2003.00204v1.pdf...\n",
            "Copying gs://arxiv-dataset/arxiv/arxiv/pdf/2003/2003.00203v2.pdf...\n",
            "Copying gs://arxiv-dataset/arxiv/arxiv/pdf/2003/2003.00204v2.pdf...\n",
            "Copying gs://arxiv-dataset/arxiv/arxiv/pdf/2003/2003.00205v1.pdf...\n",
            "Copying gs://arxiv-dataset/arxiv/arxiv/pdf/2003/2003.00205v2.pdf...\n",
            "Copying gs://arxiv-dataset/arxiv/arxiv/pdf/2003/2003.00206v1.pdf...\n",
            "Copying gs://arxiv-dataset/arxiv/arxiv/pdf/2003/2003.00206v2.pdf...\n",
            "Copying gs://arxiv-dataset/arxiv/arxiv/pdf/2003/2003.00207v1.pdf...\n",
            "Copying gs://arxiv-dataset/arxiv/arxiv/pdf/2003/2003.00207v2.pdf...\n",
            "Copying gs://arxiv-dataset/arxiv/arxiv/pdf/2003/2003.00208v1.pdf...\n",
            "Copying gs://arxiv-dataset/arxiv/arxiv/pdf/2003/2003.00209v1.pdf...\n",
            "Copying gs://arxiv-dataset/arxiv/arxiv/pdf/2003/2003.00210v1.pdf...\n",
            "Copying gs://arxiv-dataset/arxiv/arxiv/pdf/2003/2003.00210v2.pdf...\n",
            "Copying gs://arxiv-dataset/arxiv/arxiv/pdf/2003/2003.00211v1.pdf...\n",
            "Copying gs://arxiv-dataset/arxiv/arxiv/pdf/2003/2003.00212v1.pdf...\n",
            "Copying gs://arxiv-dataset/arxiv/arxiv/pdf/2003/2003.00213v1.pdf...\n",
            "Copying gs://arxiv-dataset/arxiv/arxiv/pdf/2003/2003.00214v1.pdf...\n",
            "Copying gs://arxiv-dataset/arxiv/arxiv/pdf/2003/2003.00215v1.pdf...\n",
            "Copying gs://arxiv-dataset/arxiv/arxiv/pdf/2003/2003.00216v1.pdf...\n",
            "Copying gs://arxiv-dataset/arxiv/arxiv/pdf/2003/2003.00217v1.pdf...\n",
            "Copying gs://arxiv-dataset/arxiv/arxiv/pdf/2003/2003.00217v2.pdf...\n",
            "Copying gs://arxiv-dataset/arxiv/arxiv/pdf/2003/2003.00218v1.pdf...\n",
            "Copying gs://arxiv-dataset/arxiv/arxiv/pdf/2003/2003.00219v1.pdf...\n",
            "Copying gs://arxiv-dataset/arxiv/arxiv/pdf/2003/2003.00219v2.pdf...\n",
            "Copying gs://arxiv-dataset/arxiv/arxiv/pdf/2003/2003.00220v1.pdf...\n",
            "Copying gs://arxiv-dataset/arxiv/arxiv/pdf/2003/2003.00221v1.pdf...\n",
            "Copying gs://arxiv-dataset/arxiv/arxiv/pdf/2003/2003.00222v1.pdf...\n",
            "Copying gs://arxiv-dataset/arxiv/arxiv/pdf/2003/2003.00222v2.pdf...\n",
            "Copying gs://arxiv-dataset/arxiv/arxiv/pdf/2003/2003.00223v1.pdf...\n",
            "Copying gs://arxiv-dataset/arxiv/arxiv/pdf/2003/2003.00224v1.pdf...\n",
            "Copying gs://arxiv-dataset/arxiv/arxiv/pdf/2003/2003.00224v2.pdf...\n",
            "Copying gs://arxiv-dataset/arxiv/arxiv/pdf/2003/2003.00225v1.pdf...\n",
            "Copying gs://arxiv-dataset/arxiv/arxiv/pdf/2003/2003.00226v1.pdf...\n",
            "Copying gs://arxiv-dataset/arxiv/arxiv/pdf/2003/2003.00226v2.pdf...\n",
            "Copying gs://arxiv-dataset/arxiv/arxiv/pdf/2003/2003.00227v1.pdf...\n",
            "Copying gs://arxiv-dataset/arxiv/arxiv/pdf/2003/2003.00227v2.pdf...\n",
            "Copying gs://arxiv-dataset/arxiv/arxiv/pdf/2003/2003.00227v3.pdf...\n",
            "Copying gs://arxiv-dataset/arxiv/arxiv/pdf/2003/2003.00228v1.pdf...\n",
            "Copying gs://arxiv-dataset/arxiv/arxiv/pdf/2003/2003.00229v1.pdf...\n",
            "Copying gs://arxiv-dataset/arxiv/arxiv/pdf/2003/2003.00229v2.pdf...\n",
            "Copying gs://arxiv-dataset/arxiv/arxiv/pdf/2003/2003.00230v1.pdf...\n",
            "Copying gs://arxiv-dataset/arxiv/arxiv/pdf/2003/2003.00230v2.pdf...\n",
            "Copying gs://arxiv-dataset/arxiv/arxiv/pdf/2003/2003.00230v3.pdf...\n",
            "Copying gs://arxiv-dataset/arxiv/arxiv/pdf/2003/2003.00230v4.pdf...\n",
            "Copying gs://arxiv-dataset/arxiv/arxiv/pdf/2003/2003.00231v1.pdf...\n",
            "Copying gs://arxiv-dataset/arxiv/arxiv/pdf/2003/2003.00231v2.pdf...\n",
            "Copying gs://arxiv-dataset/arxiv/arxiv/pdf/2003/2003.00232v1.pdf...\n",
            "Copying gs://arxiv-dataset/arxiv/arxiv/pdf/2003/2003.00232v2.pdf...\n",
            "Copying gs://arxiv-dataset/arxiv/arxiv/pdf/2003/2003.00233v1.pdf...\n",
            "Copying gs://arxiv-dataset/arxiv/arxiv/pdf/2003/2003.00234v1.pdf...\n",
            "Copying gs://arxiv-dataset/arxiv/arxiv/pdf/2003/2003.00235v1.pdf...\n",
            "Copying gs://arxiv-dataset/arxiv/arxiv/pdf/2003/2003.00235v2.pdf...\n",
            "Copying gs://arxiv-dataset/arxiv/arxiv/pdf/2003/2003.00236v1.pdf...\n",
            "Copying gs://arxiv-dataset/arxiv/arxiv/pdf/2003/2003.00237v1.pdf...\n",
            "Copying gs://arxiv-dataset/arxiv/arxiv/pdf/2003/2003.00237v2.pdf...\n",
            "Copying gs://arxiv-dataset/arxiv/arxiv/pdf/2003/2003.00237v3.pdf...\n",
            "Copying gs://arxiv-dataset/arxiv/arxiv/pdf/2003/2003.00238v1.pdf...\n",
            "Copying gs://arxiv-dataset/arxiv/arxiv/pdf/2003/2003.00238v2.pdf...\n",
            "Copying gs://arxiv-dataset/arxiv/arxiv/pdf/2003/2003.00238v3.pdf...\n",
            "Copying gs://arxiv-dataset/arxiv/arxiv/pdf/2003/2003.00239v1.pdf...\n",
            "Copying gs://arxiv-dataset/arxiv/arxiv/pdf/2003/2003.00239v2.pdf...\n",
            "Copying gs://arxiv-dataset/arxiv/arxiv/pdf/2003/2003.00239v3.pdf...\n",
            "Copying gs://arxiv-dataset/arxiv/arxiv/pdf/2003/2003.00240v1.pdf...\n",
            "Copying gs://arxiv-dataset/arxiv/arxiv/pdf/2003/2003.00240v2.pdf...\n",
            "Copying gs://arxiv-dataset/arxiv/arxiv/pdf/2003/2003.00241v1.pdf...\n",
            "Copying gs://arxiv-dataset/arxiv/arxiv/pdf/2003/2003.00242v1.pdf...\n",
            "Copying gs://arxiv-dataset/arxiv/arxiv/pdf/2003/2003.00243v1.pdf...\n",
            "Copying gs://arxiv-dataset/arxiv/arxiv/pdf/2003/2003.00244v1.pdf...\n",
            "Copying gs://arxiv-dataset/arxiv/arxiv/pdf/2003/2003.00244v2.pdf...\n",
            "Copying gs://arxiv-dataset/arxiv/arxiv/pdf/2003/2003.00244v3.pdf...\n",
            "Copying gs://arxiv-dataset/arxiv/arxiv/pdf/2003/2003.00245v1.pdf...\n",
            "Copying gs://arxiv-dataset/arxiv/arxiv/pdf/2003/2003.00245v2.pdf...\n",
            "Copying gs://arxiv-dataset/arxiv/arxiv/pdf/2003/2003.00246v1.pdf...\n",
            "Copying gs://arxiv-dataset/arxiv/arxiv/pdf/2003/2003.00247v1.pdf...\n",
            "Copying gs://arxiv-dataset/arxiv/arxiv/pdf/2003/2003.00248v1.pdf...\n",
            "Copying gs://arxiv-dataset/arxiv/arxiv/pdf/2003/2003.00249v1.pdf...\n",
            "Copying gs://arxiv-dataset/arxiv/arxiv/pdf/2003/2003.00249v2.pdf...\n",
            "Copying gs://arxiv-dataset/arxiv/arxiv/pdf/2003/2003.00250v1.pdf...\n",
            "Copying gs://arxiv-dataset/arxiv/arxiv/pdf/2003/2003.00251v1.pdf...\n",
            "Copying gs://arxiv-dataset/arxiv/arxiv/pdf/2003/2003.00251v2.pdf...\n",
            "Copying gs://arxiv-dataset/arxiv/arxiv/pdf/2003/2003.00251v3.pdf...\n",
            "Copying gs://arxiv-dataset/arxiv/arxiv/pdf/2003/2003.00251v4.pdf...\n",
            "Copying gs://arxiv-dataset/arxiv/arxiv/pdf/2003/2003.00252v1.pdf...\n",
            "Copying gs://arxiv-dataset/arxiv/arxiv/pdf/2003/2003.00253v2.pdf...\n",
            "Copying gs://arxiv-dataset/arxiv/arxiv/pdf/2003/2003.00253v1.pdf...\n",
            "Copying gs://arxiv-dataset/arxiv/arxiv/pdf/2003/2003.00254v1.pdf...\n",
            "Copying gs://arxiv-dataset/arxiv/arxiv/pdf/2003/2003.00255v1.pdf...\n",
            "Copying gs://arxiv-dataset/arxiv/arxiv/pdf/2003/2003.00255v2.pdf...\n",
            "Copying gs://arxiv-dataset/arxiv/arxiv/pdf/2003/2003.00256v1.pdf...\n",
            "Copying gs://arxiv-dataset/arxiv/arxiv/pdf/2003/2003.00256v2.pdf...\n",
            "Copying gs://arxiv-dataset/arxiv/arxiv/pdf/2003/2003.00257v1.pdf...\n",
            "Copying gs://arxiv-dataset/arxiv/arxiv/pdf/2003/2003.00258v1.pdf...\n",
            "Copying gs://arxiv-dataset/arxiv/arxiv/pdf/2003/2003.00258v2.pdf...\n",
            "Copying gs://arxiv-dataset/arxiv/arxiv/pdf/2003/2003.00259v1.pdf...\n",
            "Copying gs://arxiv-dataset/arxiv/arxiv/pdf/2003/2003.00259v2.pdf...\n",
            "Copying gs://arxiv-dataset/arxiv/arxiv/pdf/2003/2003.00260v1.pdf...\n",
            "Copying gs://arxiv-dataset/arxiv/arxiv/pdf/2003/2003.00261v1.pdf...\n",
            "Copying gs://arxiv-dataset/arxiv/arxiv/pdf/2003/2003.00263v1.pdf...\n",
            "Copying gs://arxiv-dataset/arxiv/arxiv/pdf/2003/2003.00262v1.pdf...\n",
            "Copying gs://arxiv-dataset/arxiv/arxiv/pdf/2003/2003.00264v1.pdf...\n",
            "Copying gs://arxiv-dataset/arxiv/arxiv/pdf/2003/2003.00264v2.pdf...\n",
            "Copying gs://arxiv-dataset/arxiv/arxiv/pdf/2003/2003.00265v1.pdf...\n",
            "Copying gs://arxiv-dataset/arxiv/arxiv/pdf/2003/2003.00265v2.pdf...\n",
            "Copying gs://arxiv-dataset/arxiv/arxiv/pdf/2003/2003.00266v1.pdf...\n",
            "Copying gs://arxiv-dataset/arxiv/arxiv/pdf/2003/2003.00267v1.pdf...\n",
            "Copying gs://arxiv-dataset/arxiv/arxiv/pdf/2003/2003.00267v2.pdf...\n",
            "Copying gs://arxiv-dataset/arxiv/arxiv/pdf/2003/2003.00267v3.pdf...\n",
            "Copying gs://arxiv-dataset/arxiv/arxiv/pdf/2003/2003.00268v1.pdf...\n",
            "Copying gs://arxiv-dataset/arxiv/arxiv/pdf/2003/2003.00269v1.pdf...\n",
            "Copying gs://arxiv-dataset/arxiv/arxiv/pdf/2003/2003.00270v1.pdf...\n",
            "Copying gs://arxiv-dataset/arxiv/arxiv/pdf/2003/2003.00270v2.pdf...\n",
            "Copying gs://arxiv-dataset/arxiv/arxiv/pdf/2003/2003.00271v1.pdf...\n",
            "Copying gs://arxiv-dataset/arxiv/arxiv/pdf/2003/2003.00272v1.pdf...\n",
            "Copying gs://arxiv-dataset/arxiv/arxiv/pdf/2003/2003.00272v2.pdf...\n",
            "Copying gs://arxiv-dataset/arxiv/arxiv/pdf/2003/2003.00273v1.pdf...\n",
            "Copying gs://arxiv-dataset/arxiv/arxiv/pdf/2003/2003.00273v2.pdf...\n",
            "Copying gs://arxiv-dataset/arxiv/arxiv/pdf/2003/2003.00273v3.pdf...\n",
            "Copying gs://arxiv-dataset/arxiv/arxiv/pdf/2003/2003.00273v4.pdf...\n",
            "Copying gs://arxiv-dataset/arxiv/arxiv/pdf/2003/2003.00273v5.pdf...\n",
            "Copying gs://arxiv-dataset/arxiv/arxiv/pdf/2003/2003.00273v6.pdf...\n",
            "Copying gs://arxiv-dataset/arxiv/arxiv/pdf/2003/2003.00274v1.pdf...\n",
            "Copying gs://arxiv-dataset/arxiv/arxiv/pdf/2003/2003.00275v1.pdf...\n",
            "Copying gs://arxiv-dataset/arxiv/arxiv/pdf/2003/2003.00276v1.pdf...\n",
            "Copying gs://arxiv-dataset/arxiv/arxiv/pdf/2003/2003.00277v1.pdf...\n",
            "Copying gs://arxiv-dataset/arxiv/arxiv/pdf/2003/2003.00277v2.pdf...\n",
            "Copying gs://arxiv-dataset/arxiv/arxiv/pdf/2003/2003.00278v1.pdf...\n",
            "Copying gs://arxiv-dataset/arxiv/arxiv/pdf/2003/2003.00278v2.pdf...\n",
            "Copying gs://arxiv-dataset/arxiv/arxiv/pdf/2003/2003.00278v3.pdf...\n",
            "Copying gs://arxiv-dataset/arxiv/arxiv/pdf/2003/2003.00279v1.pdf...\n",
            "Copying gs://arxiv-dataset/arxiv/arxiv/pdf/2003/2003.00279v2.pdf...\n",
            "Copying gs://arxiv-dataset/arxiv/arxiv/pdf/2003/2003.00279v3.pdf...\n",
            "Copying gs://arxiv-dataset/arxiv/arxiv/pdf/2003/2003.00279v4.pdf...\n",
            "Copying gs://arxiv-dataset/arxiv/arxiv/pdf/2003/2003.00280v1.pdf...\n",
            "Copying gs://arxiv-dataset/arxiv/arxiv/pdf/2003/2003.00281v2.pdf...\n",
            "Copying gs://arxiv-dataset/arxiv/arxiv/pdf/2003/2003.00281v1.pdf...\n",
            "Copying gs://arxiv-dataset/arxiv/arxiv/pdf/2003/2003.00282v1.pdf...\n",
            "Copying gs://arxiv-dataset/arxiv/arxiv/pdf/2003/2003.00282v2.pdf...\n",
            "Copying gs://arxiv-dataset/arxiv/arxiv/pdf/2003/2003.00283v1.pdf...\n",
            "Copying gs://arxiv-dataset/arxiv/arxiv/pdf/2003/2003.00284v1.pdf...\n",
            "Copying gs://arxiv-dataset/arxiv/arxiv/pdf/2003/2003.00284v2.pdf...\n",
            "Copying gs://arxiv-dataset/arxiv/arxiv/pdf/2003/2003.00285v1.pdf...\n",
            "Copying gs://arxiv-dataset/arxiv/arxiv/pdf/2003/2003.00285v2.pdf...\n",
            "Copying gs://arxiv-dataset/arxiv/arxiv/pdf/2003/2003.00286v1.pdf...\n",
            "Copying gs://arxiv-dataset/arxiv/arxiv/pdf/2003/2003.00286v2.pdf...\n",
            "Copying gs://arxiv-dataset/arxiv/arxiv/pdf/2003/2003.00287v1.pdf...\n",
            "Copying gs://arxiv-dataset/arxiv/arxiv/pdf/2003/2003.00287v2.pdf...\n",
            "Copying gs://arxiv-dataset/arxiv/arxiv/pdf/2003/2003.00288v1.pdf...\n",
            "Copying gs://arxiv-dataset/arxiv/arxiv/pdf/2003/2003.00289v1.pdf...\n",
            "Copying gs://arxiv-dataset/arxiv/arxiv/pdf/2003/2003.00289v2.pdf...\n",
            "Copying gs://arxiv-dataset/arxiv/arxiv/pdf/2003/2003.00290v1.pdf...\n",
            "Copying gs://arxiv-dataset/arxiv/arxiv/pdf/2003/2003.00291v1.pdf...\n",
            "Copying gs://arxiv-dataset/arxiv/arxiv/pdf/2003/2003.00291v2.pdf...\n",
            "Copying gs://arxiv-dataset/arxiv/arxiv/pdf/2003/2003.00291v3.pdf...\n",
            "Copying gs://arxiv-dataset/arxiv/arxiv/pdf/2003/2003.00292v1.pdf...\n",
            "Copying gs://arxiv-dataset/arxiv/arxiv/pdf/2003/2003.00293v1.pdf...\n",
            "Copying gs://arxiv-dataset/arxiv/arxiv/pdf/2003/2003.00293v2.pdf...\n",
            "Copying gs://arxiv-dataset/arxiv/arxiv/pdf/2003/2003.00294v1.pdf...\n",
            "Copying gs://arxiv-dataset/arxiv/arxiv/pdf/2003/2003.00295v1.pdf...\n",
            "Copying gs://arxiv-dataset/arxiv/arxiv/pdf/2003/2003.00295v2.pdf...\n",
            "Copying gs://arxiv-dataset/arxiv/arxiv/pdf/2003/2003.00295v3.pdf...\n",
            "Copying gs://arxiv-dataset/arxiv/arxiv/pdf/2003/2003.00295v4.pdf...\n",
            "Copying gs://arxiv-dataset/arxiv/arxiv/pdf/2003/2003.00295v5.pdf...\n",
            "Copying gs://arxiv-dataset/arxiv/arxiv/pdf/2003/2003.00296v1.pdf...\n",
            "Copying gs://arxiv-dataset/arxiv/arxiv/pdf/2003/2003.00296v2.pdf...\n",
            "Copying gs://arxiv-dataset/arxiv/arxiv/pdf/2003/2003.00297v1.pdf...\n",
            "Copying gs://arxiv-dataset/arxiv/arxiv/pdf/2003/2003.00297v2.pdf...\n",
            "Copying gs://arxiv-dataset/arxiv/arxiv/pdf/2003/2003.00298v1.pdf...\n",
            "Copying gs://arxiv-dataset/arxiv/arxiv/pdf/2003/2003.00299v1.pdf...\n",
            "Copying gs://arxiv-dataset/arxiv/arxiv/pdf/2003/2003.00299v2.pdf...\n",
            "Copying gs://arxiv-dataset/arxiv/arxiv/pdf/2003/2003.00299v3.pdf...\n",
            "Copying gs://arxiv-dataset/arxiv/arxiv/pdf/2003/2003.00299v4.pdf...\n",
            "Copying gs://arxiv-dataset/arxiv/arxiv/pdf/2003/2003.00300v1.pdf...\n",
            "Copying gs://arxiv-dataset/arxiv/arxiv/pdf/2003/2003.00300v2.pdf...\n",
            "Copying gs://arxiv-dataset/arxiv/arxiv/pdf/2003/2003.00301v1.pdf...\n",
            "Copying gs://arxiv-dataset/arxiv/arxiv/pdf/2003/2003.00302v1.pdf...\n",
            "Copying gs://arxiv-dataset/arxiv/arxiv/pdf/2003/2003.00303v1.pdf...\n",
            "Copying gs://arxiv-dataset/arxiv/arxiv/pdf/2003/2003.00304v1.pdf...\n",
            "Copying gs://arxiv-dataset/arxiv/arxiv/pdf/2003/2003.00305v1.pdf...\n",
            "Copying gs://arxiv-dataset/arxiv/arxiv/pdf/2003/2003.00306v1.pdf...\n",
            "Copying gs://arxiv-dataset/arxiv/arxiv/pdf/2003/2003.00306v2.pdf...\n",
            "Copying gs://arxiv-dataset/arxiv/arxiv/pdf/2003/2003.00307v1.pdf...\n",
            "Copying gs://arxiv-dataset/arxiv/arxiv/pdf/2003/2003.00307v2.pdf...\n",
            "Copying gs://arxiv-dataset/arxiv/arxiv/pdf/2003/2003.00308v1.pdf...\n",
            "Copying gs://arxiv-dataset/arxiv/arxiv/pdf/2003/2003.00308v2.pdf...\n",
            "Copying gs://arxiv-dataset/arxiv/arxiv/pdf/2003/2003.00308v3.pdf...\n",
            "Copying gs://arxiv-dataset/arxiv/arxiv/pdf/2003/2003.00309v1.pdf...\n",
            "Copying gs://arxiv-dataset/arxiv/arxiv/pdf/2003/2003.00310v1.pdf...\n",
            "Copying gs://arxiv-dataset/arxiv/arxiv/pdf/2003/2003.00310v2.pdf...\n",
            "Copying gs://arxiv-dataset/arxiv/arxiv/pdf/2003/2003.00311v1.pdf...\n",
            "Copying gs://arxiv-dataset/arxiv/arxiv/pdf/2003/2003.00311v2.pdf...\n",
            "Copying gs://arxiv-dataset/arxiv/arxiv/pdf/2003/2003.00312v1.pdf...\n",
            "Copying gs://arxiv-dataset/arxiv/arxiv/pdf/2003/2003.00313v1.pdf...\n",
            "Copying gs://arxiv-dataset/arxiv/arxiv/pdf/2003/2003.00313v2.pdf...\n",
            "Copying gs://arxiv-dataset/arxiv/arxiv/pdf/2003/2003.00314v1.pdf...\n",
            "Copying gs://arxiv-dataset/arxiv/arxiv/pdf/2003/2003.00314v2.pdf...\n",
            "Copying gs://arxiv-dataset/arxiv/arxiv/pdf/2003/2003.00314v4.pdf...\n",
            "Copying gs://arxiv-dataset/arxiv/arxiv/pdf/2003/2003.00315v1.pdf...\n",
            "Copying gs://arxiv-dataset/arxiv/arxiv/pdf/2003/2003.00314v3.pdf...\n",
            "Copying gs://arxiv-dataset/arxiv/arxiv/pdf/2003/2003.00315v2.pdf...\n",
            "Copying gs://arxiv-dataset/arxiv/arxiv/pdf/2003/2003.00316v1.pdf...\n",
            "Copying gs://arxiv-dataset/arxiv/arxiv/pdf/2003/2003.00316v2.pdf...\n",
            "Copying gs://arxiv-dataset/arxiv/arxiv/pdf/2003/2003.00316v3.pdf...\n",
            "Copying gs://arxiv-dataset/arxiv/arxiv/pdf/2003/2003.00317v1.pdf...\n",
            "Copying gs://arxiv-dataset/arxiv/arxiv/pdf/2003/2003.00317v2.pdf...\n",
            "Copying gs://arxiv-dataset/arxiv/arxiv/pdf/2003/2003.00317v3.pdf...\n",
            "Copying gs://arxiv-dataset/arxiv/arxiv/pdf/2003/2003.00318v1.pdf...\n",
            "Copying gs://arxiv-dataset/arxiv/arxiv/pdf/2003/2003.00319v1.pdf...\n",
            "Copying gs://arxiv-dataset/arxiv/arxiv/pdf/2003/2003.00319v2.pdf...\n",
            "Copying gs://arxiv-dataset/arxiv/arxiv/pdf/2003/2003.00319v3.pdf...\n",
            "Copying gs://arxiv-dataset/arxiv/arxiv/pdf/2003/2003.00319v4.pdf...\n",
            "Copying gs://arxiv-dataset/arxiv/arxiv/pdf/2003/2003.00320v1.pdf...\n",
            "Copying gs://arxiv-dataset/arxiv/arxiv/pdf/2003/2003.00321v1.pdf...\n",
            "Copying gs://arxiv-dataset/arxiv/arxiv/pdf/2003/2003.00320v2.pdf...\n",
            "Copying gs://arxiv-dataset/arxiv/arxiv/pdf/2003/2003.00322v1.pdf...\n",
            "Copying gs://arxiv-dataset/arxiv/arxiv/pdf/2003/2003.00322v2.pdf...\n",
            "Copying gs://arxiv-dataset/arxiv/arxiv/pdf/2003/2003.00323v1.pdf...\n",
            "Copying gs://arxiv-dataset/arxiv/arxiv/pdf/2003/2003.00323v2.pdf...\n",
            "Copying gs://arxiv-dataset/arxiv/arxiv/pdf/2003/2003.00323v3.pdf...\n",
            "Copying gs://arxiv-dataset/arxiv/arxiv/pdf/2003/2003.00324v1.pdf...\n",
            "Copying gs://arxiv-dataset/arxiv/arxiv/pdf/2003/2003.00324v2.pdf...\n",
            "Copying gs://arxiv-dataset/arxiv/arxiv/pdf/2003/2003.00325v1.pdf...\n",
            "Copying gs://arxiv-dataset/arxiv/arxiv/pdf/2003/2003.00325v2.pdf...\n",
            "Copying gs://arxiv-dataset/arxiv/arxiv/pdf/2003/2003.00325v3.pdf...\n",
            "Copying gs://arxiv-dataset/arxiv/arxiv/pdf/2003/2003.00325v4.pdf...\n",
            "Copying gs://arxiv-dataset/arxiv/arxiv/pdf/2003/2003.00326v1.pdf...\n",
            "Copying gs://arxiv-dataset/arxiv/arxiv/pdf/2003/2003.00327v1.pdf...\n",
            "Copying gs://arxiv-dataset/arxiv/arxiv/pdf/2003/2003.00328v1.pdf...\n",
            "Copying gs://arxiv-dataset/arxiv/arxiv/pdf/2003/2003.00329v1.pdf...\n",
            "Copying gs://arxiv-dataset/arxiv/arxiv/pdf/2003/2003.00330v1.pdf...\n",
            "Copying gs://arxiv-dataset/arxiv/arxiv/pdf/2003/2003.00330v2.pdf...\n",
            "Copying gs://arxiv-dataset/arxiv/arxiv/pdf/2003/2003.00330v3.pdf...\n",
            "Copying gs://arxiv-dataset/arxiv/arxiv/pdf/2003/2003.00330v4.pdf...\n",
            "Copying gs://arxiv-dataset/arxiv/arxiv/pdf/2003/2003.00330v5.pdf...\n",
            "Copying gs://arxiv-dataset/arxiv/arxiv/pdf/2003/2003.00330v6.pdf...\n",
            "Copying gs://arxiv-dataset/arxiv/arxiv/pdf/2003/2003.00330v7.pdf...\n",
            "Copying gs://arxiv-dataset/arxiv/arxiv/pdf/2003/2003.00331v1.pdf...\n",
            "Copying gs://arxiv-dataset/arxiv/arxiv/pdf/2003/2003.00332v1.pdf...\n",
            "Copying gs://arxiv-dataset/arxiv/arxiv/pdf/2003/2003.00332v2.pdf...\n",
            "Copying gs://arxiv-dataset/arxiv/arxiv/pdf/2003/2003.00332v3.pdf...\n",
            "Copying gs://arxiv-dataset/arxiv/arxiv/pdf/2003/2003.00332v4.pdf...\n",
            "Copying gs://arxiv-dataset/arxiv/arxiv/pdf/2003/2003.00333v1.pdf...\n",
            "Copying gs://arxiv-dataset/arxiv/arxiv/pdf/2003/2003.00333v2.pdf...\n",
            "Copying gs://arxiv-dataset/arxiv/arxiv/pdf/2003/2003.00334v1.pdf...\n",
            "Copying gs://arxiv-dataset/arxiv/arxiv/pdf/2003/2003.00334v2.pdf...\n",
            "Copying gs://arxiv-dataset/arxiv/arxiv/pdf/2003/2003.00335v1.pdf...\n",
            "Copying gs://arxiv-dataset/arxiv/arxiv/pdf/2003/2003.00335v2.pdf...\n",
            "Copying gs://arxiv-dataset/arxiv/arxiv/pdf/2003/2003.00335v3.pdf...\n",
            "Copying gs://arxiv-dataset/arxiv/arxiv/pdf/2003/2003.00335v4.pdf...\n",
            "Copying gs://arxiv-dataset/arxiv/arxiv/pdf/2003/2003.00336v1.pdf...\n",
            "Copying gs://arxiv-dataset/arxiv/arxiv/pdf/2003/2003.00337v1.pdf...\n",
            "Copying gs://arxiv-dataset/arxiv/arxiv/pdf/2003/2003.00337v2.pdf...\n",
            "Copying gs://arxiv-dataset/arxiv/arxiv/pdf/2003/2003.00337v3.pdf...\n",
            "Copying gs://arxiv-dataset/arxiv/arxiv/pdf/2003/2003.00338v1.pdf...\n",
            "Copying gs://arxiv-dataset/arxiv/arxiv/pdf/2003/2003.00339v1.pdf...\n",
            "Copying gs://arxiv-dataset/arxiv/arxiv/pdf/2003/2003.00340v1.pdf...\n",
            "Copying gs://arxiv-dataset/arxiv/arxiv/pdf/2003/2003.00340v2.pdf...\n",
            "Copying gs://arxiv-dataset/arxiv/arxiv/pdf/2003/2003.00341v1.pdf...\n",
            "Copying gs://arxiv-dataset/arxiv/arxiv/pdf/2003/2003.00340v3.pdf...\n",
            "Copying gs://arxiv-dataset/arxiv/arxiv/pdf/2003/2003.00341v2.pdf...\n",
            "Copying gs://arxiv-dataset/arxiv/arxiv/pdf/2003/2003.00342v1.pdf...\n",
            "Copying gs://arxiv-dataset/arxiv/arxiv/pdf/2003/2003.00343v1.pdf...\n",
            "Copying gs://arxiv-dataset/arxiv/arxiv/pdf/2003/2003.00342v2.pdf...\n",
            "Copying gs://arxiv-dataset/arxiv/arxiv/pdf/2003/2003.00343v2.pdf...\n",
            "Copying gs://arxiv-dataset/arxiv/arxiv/pdf/2003/2003.00344v1.pdf...\n",
            "Copying gs://arxiv-dataset/arxiv/arxiv/pdf/2003/2003.00345v1.pdf...\n",
            "Copying gs://arxiv-dataset/arxiv/arxiv/pdf/2003/2003.00345v2.pdf...\n",
            "Copying gs://arxiv-dataset/arxiv/arxiv/pdf/2003/2003.00347v1.pdf...\n",
            "Copying gs://arxiv-dataset/arxiv/arxiv/pdf/2003/2003.00346v1.pdf...\n",
            "Copying gs://arxiv-dataset/arxiv/arxiv/pdf/2003/2003.00347v2.pdf...\n",
            "Copying gs://arxiv-dataset/arxiv/arxiv/pdf/2003/2003.00348v1.pdf...\n",
            "Copying gs://arxiv-dataset/arxiv/arxiv/pdf/2003/2003.00348v2.pdf...\n",
            "Copying gs://arxiv-dataset/arxiv/arxiv/pdf/2003/2003.00349v1.pdf...\n",
            "Copying gs://arxiv-dataset/arxiv/arxiv/pdf/2003/2003.00349v2.pdf...\n",
            "Copying gs://arxiv-dataset/arxiv/arxiv/pdf/2003/2003.00349v3.pdf...\n",
            "Copying gs://arxiv-dataset/arxiv/arxiv/pdf/2003/2003.00349v4.pdf...\n",
            "Copying gs://arxiv-dataset/arxiv/arxiv/pdf/2003/2003.00349v5.pdf...\n",
            "Copying gs://arxiv-dataset/arxiv/arxiv/pdf/2003/2003.00350v1.pdf...\n",
            "Copying gs://arxiv-dataset/arxiv/arxiv/pdf/2003/2003.00350v2.pdf...\n",
            "Copying gs://arxiv-dataset/arxiv/arxiv/pdf/2003/2003.00351v1.pdf...\n",
            "Copying gs://arxiv-dataset/arxiv/arxiv/pdf/2003/2003.00352v1.pdf...\n",
            "Copying gs://arxiv-dataset/arxiv/arxiv/pdf/2003/2003.00352v2.pdf...\n",
            "Exception in UIThread: [Errno 32] Broken pipe\n",
            "Caught CTRL-C (signal 2) - exiting\n",
            "^C\n"
          ]
        }
      ]
    },
    {
      "cell_type": "code",
      "source": [
        "!apt-get install poppler-utils"
      ],
      "metadata": {
        "colab": {
          "base_uri": "https://localhost:8080/"
        },
        "id": "yz4_eqw53xnZ",
        "outputId": "e2b22e44-c97c-4b0e-8375-6155a1307ae7"
      },
      "execution_count": 8,
      "outputs": [
        {
          "output_type": "stream",
          "name": "stdout",
          "text": [
            "Reading package lists... Done\n",
            "Building dependency tree... Done\n",
            "Reading state information... Done\n",
            "The following NEW packages will be installed:\n",
            "  poppler-utils\n",
            "0 upgraded, 1 newly installed, 0 to remove and 34 not upgraded.\n",
            "Need to get 186 kB of archives.\n",
            "After this operation, 697 kB of additional disk space will be used.\n",
            "Get:1 http://archive.ubuntu.com/ubuntu jammy-updates/main amd64 poppler-utils amd64 22.02.0-2ubuntu0.8 [186 kB]\n",
            "Fetched 186 kB in 1s (270 kB/s)\n",
            "Selecting previously unselected package poppler-utils.\n",
            "(Reading database ... 126102 files and directories currently installed.)\n",
            "Preparing to unpack .../poppler-utils_22.02.0-2ubuntu0.8_amd64.deb ...\n",
            "Unpacking poppler-utils (22.02.0-2ubuntu0.8) ...\n",
            "Setting up poppler-utils (22.02.0-2ubuntu0.8) ...\n",
            "Processing triggers for man-db (2.10.2-1) ...\n"
          ]
        }
      ]
    },
    {
      "cell_type": "code",
      "source": [
        "import os\n",
        "\n",
        "pdf_dir = '/content/test'\n",
        "output_file = '/content/corpus.txt'\n",
        "\n",
        "pdf_files = sorted([f for f in os.listdir(pdf_dir) if f.endswith('.pdf')])\n",
        "\n",
        "with open(output_file, 'w', encoding='utf-8') as outfile:\n",
        "    for pdf in pdf_files:\n",
        "        pdf_path = os.path.join(pdf_dir, pdf)\n",
        "\n",
        "        temp_txt = 'temp.txt'\n",
        "        os.system(f\"pdftotext '{pdf_path}' {temp_txt}\")\n",
        "\n",
        "        if os.path.exists(temp_txt):\n",
        "            with open(temp_txt, 'r', encoding='utf-8') as tempf:\n",
        "                outfile.write(tempf.read())\n",
        "\n",
        "with open(output_file, 'r', encoding='utf-8') as f:\n",
        "    text = f.read()\n",
        "    print(f\"Символів у файлі: {len(text)}\")\n"
      ],
      "metadata": {
        "colab": {
          "base_uri": "https://localhost:8080/"
        },
        "id": "5jgJprLY3xpe",
        "outputId": "1fef059e-73d6-4a20-df5c-fe26fa246d73"
      },
      "execution_count": 9,
      "outputs": [
        {
          "output_type": "stream",
          "name": "stdout",
          "text": [
            "Символів у файлі: 35119580\n"
          ]
        }
      ]
    },
    {
      "cell_type": "code",
      "source": [
        "import re\n",
        "from collections import Counter\n",
        "import numpy as np\n",
        "import pandas as pd"
      ],
      "metadata": {
        "id": "fWKj9pLh7Mxa"
      },
      "execution_count": 10,
      "outputs": []
    },
    {
      "cell_type": "code",
      "source": [
        "def process_data(file_name):\n",
        "    \"\"\"\n",
        "    Зчитує файл та повертає список слів у нижньому регістрі.\n",
        "    \"\"\"\n",
        "    with open(file_name, \"r\") as f:\n",
        "        text = f.read().lower()\n",
        "    words = re.findall(r'\\w+', text)\n",
        "    return words"
      ],
      "metadata": {
        "id": "sc91Q9j93xui"
      },
      "execution_count": 11,
      "outputs": []
    },
    {
      "cell_type": "code",
      "source": [
        "words = process_data(\"corpus.txt\")"
      ],
      "metadata": {
        "id": "Eyb6VxyE7wQO"
      },
      "execution_count": 14,
      "outputs": []
    },
    {
      "cell_type": "code",
      "source": [
        "words[:20]"
      ],
      "metadata": {
        "colab": {
          "base_uri": "https://localhost:8080/"
        },
        "id": "_DFKaxcv75kS",
        "outputId": "1f871d85-9fb4-4f29-8979-00ec4dc1e785"
      },
      "execution_count": 15,
      "outputs": [
        {
          "output_type": "execute_result",
          "data": {
            "text/plain": [
              "['newsletter',\n",
              " 'of',\n",
              " 'the',\n",
              " 'ems',\n",
              " 'manuscript',\n",
              " 'page',\n",
              " '1',\n",
              " 'the',\n",
              " 'mathematics',\n",
              " 'of',\n",
              " 'bitcoin',\n",
              " 'cyril',\n",
              " 'grunspan',\n",
              " 'de',\n",
              " 'vinci',\n",
              " 'research',\n",
              " 'center',\n",
              " 'paris',\n",
              " 'france',\n",
              " 'ricardo']"
            ]
          },
          "metadata": {},
          "execution_count": 15
        }
      ]
    },
    {
      "cell_type": "code",
      "source": [
        "len(words)"
      ],
      "metadata": {
        "colab": {
          "base_uri": "https://localhost:8080/"
        },
        "id": "VKD-AloV7_oy",
        "outputId": "d27d3252-dc01-41c8-9fc0-1faec25e5283"
      },
      "execution_count": 16,
      "outputs": [
        {
          "output_type": "execute_result",
          "data": {
            "text/plain": [
              "6410751"
            ]
          },
          "metadata": {},
          "execution_count": 16
        }
      ]
    },
    {
      "cell_type": "code",
      "source": [
        "def get_count(word_l):\n",
        "    \"\"\"\n",
        "    Створює словник частотності слів.\n",
        "    \"\"\"\n",
        "    word_count_dict = {}\n",
        "    for w in word_l:\n",
        "        if w in word_count_dict:\n",
        "            word_count_dict[w] += 1\n",
        "        else:\n",
        "            word_count_dict[w] = 1\n",
        "    return word_count_dict"
      ],
      "metadata": {
        "id": "Gn6t3J9d3xxD"
      },
      "execution_count": 12,
      "outputs": []
    },
    {
      "cell_type": "code",
      "source": [
        "w_counter = get_count(words)"
      ],
      "metadata": {
        "id": "AmUYntQO8eX4"
      },
      "execution_count": 17,
      "outputs": []
    },
    {
      "cell_type": "code",
      "source": [
        "w_counter['the']"
      ],
      "metadata": {
        "colab": {
          "base_uri": "https://localhost:8080/"
        },
        "id": "MOYu44n49wbP",
        "outputId": "d0632973-aa5b-4521-eb15-9ea277345f18"
      },
      "execution_count": 21,
      "outputs": [
        {
          "output_type": "execute_result",
          "data": {
            "text/plain": [
              "326817"
            ]
          },
          "metadata": {},
          "execution_count": 21
        }
      ]
    },
    {
      "cell_type": "code",
      "source": [
        "def get_probs(word_count_dict):\n",
        "    \"\"\"\n",
        "    Обчислює ймовірності слів на основі словника частотності.\n",
        "    \"\"\"\n",
        "    probs = {}\n",
        "    total_count = sum(word_count_dict.values())\n",
        "    for word, count in word_count_dict.items():\n",
        "        probs[word] = count / total_count\n",
        "    return probs"
      ],
      "metadata": {
        "id": "-xSJCIfn3xsB"
      },
      "execution_count": 13,
      "outputs": []
    },
    {
      "cell_type": "code",
      "source": [
        "prob = get_probs(w_counter)"
      ],
      "metadata": {
        "id": "tzCw3sYk3xzd"
      },
      "execution_count": 22,
      "outputs": []
    },
    {
      "cell_type": "code",
      "source": [
        "prob[\"the\"]"
      ],
      "metadata": {
        "colab": {
          "base_uri": "https://localhost:8080/"
        },
        "id": "PlAtPCuG3x11",
        "outputId": "9b2dbeae-0e2e-438e-c24c-f2343e9421cc"
      },
      "execution_count": 25,
      "outputs": [
        {
          "output_type": "execute_result",
          "data": {
            "text/plain": [
              "0.050979518624261026"
            ]
          },
          "metadata": {},
          "execution_count": 25
        }
      ]
    },
    {
      "cell_type": "code",
      "source": [
        "prob[\"duck\"]"
      ],
      "metadata": {
        "colab": {
          "base_uri": "https://localhost:8080/"
        },
        "id": "oEVnyWIo3x4Y",
        "outputId": "f705d38d-4a9b-4fd6-8481-f87f0123a1c4"
      },
      "execution_count": 26,
      "outputs": [
        {
          "output_type": "execute_result",
          "data": {
            "text/plain": [
              "1.403891681333435e-06"
            ]
          },
          "metadata": {},
          "execution_count": 26
        }
      ]
    },
    {
      "cell_type": "code",
      "source": [
        "def delete_letter(word, verbose=False):\n",
        "    \"\"\"\n",
        "    Видаляє одну літеру зі слова та повертає список усіх можливих варіантів.\n",
        "    \"\"\"\n",
        "    delete_l = []\n",
        "    split_l = [(word[:i], word[i:]) for i in range(len(word))]\n",
        "    delete_l = [L + R[1:] for L, R in split_l if R]\n",
        "\n",
        "    if verbose:\n",
        "        print(f\"input word {word}, \\nsplit_l = {split_l}, \\ndelete_l = {delete_l}\")\n",
        "\n",
        "    return delete_l\n"
      ],
      "metadata": {
        "id": "716ghBSf3x6s"
      },
      "execution_count": 27,
      "outputs": []
    },
    {
      "cell_type": "code",
      "source": [
        "delete_letter(\"kingdom\", True)"
      ],
      "metadata": {
        "colab": {
          "base_uri": "https://localhost:8080/"
        },
        "id": "YqgQ375_-vC8",
        "outputId": "a8414a7f-db87-4e4f-a767-ea2c46b0183b"
      },
      "execution_count": 29,
      "outputs": [
        {
          "output_type": "stream",
          "name": "stdout",
          "text": [
            "input word kingdom, \n",
            "split_l = [('', 'kingdom'), ('k', 'ingdom'), ('ki', 'ngdom'), ('kin', 'gdom'), ('king', 'dom'), ('kingd', 'om'), ('kingdo', 'm')], \n",
            "delete_l = ['ingdom', 'kngdom', 'kigdom', 'kindom', 'kingom', 'kingdm', 'kingdo']\n"
          ]
        },
        {
          "output_type": "execute_result",
          "data": {
            "text/plain": [
              "['ingdom', 'kngdom', 'kigdom', 'kindom', 'kingom', 'kingdm', 'kingdo']"
            ]
          },
          "metadata": {},
          "execution_count": 29
        }
      ]
    },
    {
      "cell_type": "code",
      "source": [
        "def switch_letter(word, verbose=False):\n",
        "    \"\"\"\n",
        "    Міняє місцями дві сусідні літери та повертає всі можливі варіанти.\n",
        "    \"\"\"\n",
        "    switch_l = []\n",
        "    split_l = [(word[:i], word[i:]) for i in range(len(word))]\n",
        "    switch_l = [L + R[1] + R[0] + R[2:] for L, R in split_l if len(R) > 1]\n",
        "\n",
        "    if verbose:\n",
        "        print(f\"Input word = {word} \\nsplit_l = {split_l} \\nswitch_l = {switch_l}\")\n",
        "\n",
        "    return switch_l\n"
      ],
      "metadata": {
        "id": "MNCrDWl2-ujl"
      },
      "execution_count": 31,
      "outputs": []
    },
    {
      "cell_type": "code",
      "source": [
        "switch_letter(\"kingdom\", True)"
      ],
      "metadata": {
        "colab": {
          "base_uri": "https://localhost:8080/"
        },
        "id": "urECgYBv-uhc",
        "outputId": "1352ee50-ebfd-4b28-c584-91168259cb4a"
      },
      "execution_count": 32,
      "outputs": [
        {
          "output_type": "stream",
          "name": "stdout",
          "text": [
            "Input word = kingdom \n",
            "split_l = [('', 'kingdom'), ('k', 'ingdom'), ('ki', 'ngdom'), ('kin', 'gdom'), ('king', 'dom'), ('kingd', 'om'), ('kingdo', 'm')] \n",
            "switch_l = ['ikngdom', 'knigdom', 'kigndom', 'kindgom', 'kingodm', 'kingdmo']\n"
          ]
        },
        {
          "output_type": "execute_result",
          "data": {
            "text/plain": [
              "['ikngdom', 'knigdom', 'kigndom', 'kindgom', 'kingodm', 'kingdmo']"
            ]
          },
          "metadata": {},
          "execution_count": 32
        }
      ]
    },
    {
      "cell_type": "code",
      "source": [
        "def replace_letter(word, verbose=False):\n",
        "    \"\"\"\n",
        "    Замінює одну літеру іншою та повертає всі можливі варіанти.\n",
        "    \"\"\"\n",
        "    letters = 'abcdefghijklmnopqrstuvwxyz'\n",
        "    replace_l = []\n",
        "    split_l = [(word[:i], word[i:]) for i in range(len(word))]\n",
        "    replace_l = [L + c + R[1:] for L, R in split_l if R for c in letters if L + c + R[1:] != word]\n",
        "\n",
        "    if verbose:\n",
        "        print(f\"Input word = {word} \\nsplit_l = {split_l} \\nreplace_l = {replace_l}\")\n",
        "\n",
        "    return replace_l\n"
      ],
      "metadata": {
        "id": "DpW_9l5N-ufO"
      },
      "execution_count": 33,
      "outputs": []
    },
    {
      "cell_type": "code",
      "source": [
        "replace_letter(\"duck\")"
      ],
      "metadata": {
        "colab": {
          "base_uri": "https://localhost:8080/"
        },
        "id": "m6g9sIuD-uc2",
        "outputId": "f9daa64b-74c9-43e0-b33e-6fba1f1ae825"
      },
      "execution_count": 34,
      "outputs": [
        {
          "output_type": "execute_result",
          "data": {
            "text/plain": [
              "['auck',\n",
              " 'buck',\n",
              " 'cuck',\n",
              " 'euck',\n",
              " 'fuck',\n",
              " 'guck',\n",
              " 'huck',\n",
              " 'iuck',\n",
              " 'juck',\n",
              " 'kuck',\n",
              " 'luck',\n",
              " 'muck',\n",
              " 'nuck',\n",
              " 'ouck',\n",
              " 'puck',\n",
              " 'quck',\n",
              " 'ruck',\n",
              " 'suck',\n",
              " 'tuck',\n",
              " 'uuck',\n",
              " 'vuck',\n",
              " 'wuck',\n",
              " 'xuck',\n",
              " 'yuck',\n",
              " 'zuck',\n",
              " 'dack',\n",
              " 'dbck',\n",
              " 'dcck',\n",
              " 'ddck',\n",
              " 'deck',\n",
              " 'dfck',\n",
              " 'dgck',\n",
              " 'dhck',\n",
              " 'dick',\n",
              " 'djck',\n",
              " 'dkck',\n",
              " 'dlck',\n",
              " 'dmck',\n",
              " 'dnck',\n",
              " 'dock',\n",
              " 'dpck',\n",
              " 'dqck',\n",
              " 'drck',\n",
              " 'dsck',\n",
              " 'dtck',\n",
              " 'dvck',\n",
              " 'dwck',\n",
              " 'dxck',\n",
              " 'dyck',\n",
              " 'dzck',\n",
              " 'duak',\n",
              " 'dubk',\n",
              " 'dudk',\n",
              " 'duek',\n",
              " 'dufk',\n",
              " 'dugk',\n",
              " 'duhk',\n",
              " 'duik',\n",
              " 'dujk',\n",
              " 'dukk',\n",
              " 'dulk',\n",
              " 'dumk',\n",
              " 'dunk',\n",
              " 'duok',\n",
              " 'dupk',\n",
              " 'duqk',\n",
              " 'durk',\n",
              " 'dusk',\n",
              " 'dutk',\n",
              " 'duuk',\n",
              " 'duvk',\n",
              " 'duwk',\n",
              " 'duxk',\n",
              " 'duyk',\n",
              " 'duzk',\n",
              " 'duca',\n",
              " 'ducb',\n",
              " 'ducc',\n",
              " 'ducd',\n",
              " 'duce',\n",
              " 'ducf',\n",
              " 'ducg',\n",
              " 'duch',\n",
              " 'duci',\n",
              " 'ducj',\n",
              " 'ducl',\n",
              " 'ducm',\n",
              " 'ducn',\n",
              " 'duco',\n",
              " 'ducp',\n",
              " 'ducq',\n",
              " 'ducr',\n",
              " 'ducs',\n",
              " 'duct',\n",
              " 'ducu',\n",
              " 'ducv',\n",
              " 'ducw',\n",
              " 'ducx',\n",
              " 'ducy',\n",
              " 'ducz']"
            ]
          },
          "metadata": {},
          "execution_count": 34
        }
      ]
    },
    {
      "cell_type": "code",
      "source": [
        "def insert_letter(word, verbose=False):\n",
        "    \"\"\"\n",
        "    Вставляє одну літеру та повертає всі можливі варіанти.\n",
        "    \"\"\"\n",
        "    letters = 'abcdefghijklmnopqrstuvwxyz'\n",
        "    insert_l = []\n",
        "    split_l = [(word[:i], word[i:]) for i in range(len(word) + 1)]\n",
        "    insert_l = [L + c + R for L, R in split_l for c in letters]\n",
        "\n",
        "    if verbose:\n",
        "        print(f\"Input word {word} \\nsplit_l = {split_l} \\ninsert_l = {insert_l}\")\n",
        "\n",
        "    return insert_l\n"
      ],
      "metadata": {
        "id": "Ea9MBYVZ-uad"
      },
      "execution_count": 35,
      "outputs": []
    },
    {
      "cell_type": "code",
      "source": [
        "insert_letter(\"duck\", True)"
      ],
      "metadata": {
        "colab": {
          "base_uri": "https://localhost:8080/"
        },
        "id": "MgR3s88E-uYH",
        "outputId": "6c21a6d1-84db-428f-fe5c-a98567db8d02"
      },
      "execution_count": 36,
      "outputs": [
        {
          "output_type": "stream",
          "name": "stdout",
          "text": [
            "Input word duck \n",
            "split_l = [('', 'duck'), ('d', 'uck'), ('du', 'ck'), ('duc', 'k'), ('duck', '')] \n",
            "insert_l = ['aduck', 'bduck', 'cduck', 'dduck', 'educk', 'fduck', 'gduck', 'hduck', 'iduck', 'jduck', 'kduck', 'lduck', 'mduck', 'nduck', 'oduck', 'pduck', 'qduck', 'rduck', 'sduck', 'tduck', 'uduck', 'vduck', 'wduck', 'xduck', 'yduck', 'zduck', 'dauck', 'dbuck', 'dcuck', 'dduck', 'deuck', 'dfuck', 'dguck', 'dhuck', 'diuck', 'djuck', 'dkuck', 'dluck', 'dmuck', 'dnuck', 'douck', 'dpuck', 'dquck', 'druck', 'dsuck', 'dtuck', 'duuck', 'dvuck', 'dwuck', 'dxuck', 'dyuck', 'dzuck', 'duack', 'dubck', 'ducck', 'dudck', 'dueck', 'dufck', 'dugck', 'duhck', 'duick', 'dujck', 'dukck', 'dulck', 'dumck', 'dunck', 'duock', 'dupck', 'duqck', 'durck', 'dusck', 'dutck', 'duuck', 'duvck', 'duwck', 'duxck', 'duyck', 'duzck', 'ducak', 'ducbk', 'ducck', 'ducdk', 'ducek', 'ducfk', 'ducgk', 'duchk', 'ducik', 'ducjk', 'duckk', 'duclk', 'ducmk', 'ducnk', 'ducok', 'ducpk', 'ducqk', 'ducrk', 'ducsk', 'ductk', 'ducuk', 'ducvk', 'ducwk', 'ducxk', 'ducyk', 'duczk', 'ducka', 'duckb', 'duckc', 'duckd', 'ducke', 'duckf', 'duckg', 'duckh', 'ducki', 'duckj', 'duckk', 'duckl', 'duckm', 'duckn', 'ducko', 'duckp', 'duckq', 'duckr', 'ducks', 'duckt', 'ducku', 'duckv', 'duckw', 'duckx', 'ducky', 'duckz']\n"
          ]
        },
        {
          "output_type": "execute_result",
          "data": {
            "text/plain": [
              "['aduck',\n",
              " 'bduck',\n",
              " 'cduck',\n",
              " 'dduck',\n",
              " 'educk',\n",
              " 'fduck',\n",
              " 'gduck',\n",
              " 'hduck',\n",
              " 'iduck',\n",
              " 'jduck',\n",
              " 'kduck',\n",
              " 'lduck',\n",
              " 'mduck',\n",
              " 'nduck',\n",
              " 'oduck',\n",
              " 'pduck',\n",
              " 'qduck',\n",
              " 'rduck',\n",
              " 'sduck',\n",
              " 'tduck',\n",
              " 'uduck',\n",
              " 'vduck',\n",
              " 'wduck',\n",
              " 'xduck',\n",
              " 'yduck',\n",
              " 'zduck',\n",
              " 'dauck',\n",
              " 'dbuck',\n",
              " 'dcuck',\n",
              " 'dduck',\n",
              " 'deuck',\n",
              " 'dfuck',\n",
              " 'dguck',\n",
              " 'dhuck',\n",
              " 'diuck',\n",
              " 'djuck',\n",
              " 'dkuck',\n",
              " 'dluck',\n",
              " 'dmuck',\n",
              " 'dnuck',\n",
              " 'douck',\n",
              " 'dpuck',\n",
              " 'dquck',\n",
              " 'druck',\n",
              " 'dsuck',\n",
              " 'dtuck',\n",
              " 'duuck',\n",
              " 'dvuck',\n",
              " 'dwuck',\n",
              " 'dxuck',\n",
              " 'dyuck',\n",
              " 'dzuck',\n",
              " 'duack',\n",
              " 'dubck',\n",
              " 'ducck',\n",
              " 'dudck',\n",
              " 'dueck',\n",
              " 'dufck',\n",
              " 'dugck',\n",
              " 'duhck',\n",
              " 'duick',\n",
              " 'dujck',\n",
              " 'dukck',\n",
              " 'dulck',\n",
              " 'dumck',\n",
              " 'dunck',\n",
              " 'duock',\n",
              " 'dupck',\n",
              " 'duqck',\n",
              " 'durck',\n",
              " 'dusck',\n",
              " 'dutck',\n",
              " 'duuck',\n",
              " 'duvck',\n",
              " 'duwck',\n",
              " 'duxck',\n",
              " 'duyck',\n",
              " 'duzck',\n",
              " 'ducak',\n",
              " 'ducbk',\n",
              " 'ducck',\n",
              " 'ducdk',\n",
              " 'ducek',\n",
              " 'ducfk',\n",
              " 'ducgk',\n",
              " 'duchk',\n",
              " 'ducik',\n",
              " 'ducjk',\n",
              " 'duckk',\n",
              " 'duclk',\n",
              " 'ducmk',\n",
              " 'ducnk',\n",
              " 'ducok',\n",
              " 'ducpk',\n",
              " 'ducqk',\n",
              " 'ducrk',\n",
              " 'ducsk',\n",
              " 'ductk',\n",
              " 'ducuk',\n",
              " 'ducvk',\n",
              " 'ducwk',\n",
              " 'ducxk',\n",
              " 'ducyk',\n",
              " 'duczk',\n",
              " 'ducka',\n",
              " 'duckb',\n",
              " 'duckc',\n",
              " 'duckd',\n",
              " 'ducke',\n",
              " 'duckf',\n",
              " 'duckg',\n",
              " 'duckh',\n",
              " 'ducki',\n",
              " 'duckj',\n",
              " 'duckk',\n",
              " 'duckl',\n",
              " 'duckm',\n",
              " 'duckn',\n",
              " 'ducko',\n",
              " 'duckp',\n",
              " 'duckq',\n",
              " 'duckr',\n",
              " 'ducks',\n",
              " 'duckt',\n",
              " 'ducku',\n",
              " 'duckv',\n",
              " 'duckw',\n",
              " 'duckx',\n",
              " 'ducky',\n",
              " 'duckz']"
            ]
          },
          "metadata": {},
          "execution_count": 36
        }
      ]
    },
    {
      "cell_type": "code",
      "source": [
        "def edit_one_letter(word, allow_switches=True):\n",
        "    \"\"\"\n",
        "    Повертає набір слів, які знаходяться на відстані одного редагування від вхідного слова.\n",
        "    \"\"\"\n",
        "    edit_set = set()\n",
        "    edit_set.update(delete_letter(word))\n",
        "    edit_set.update(replace_letter(word))\n",
        "    edit_set.update(insert_letter(word))\n",
        "\n",
        "    if allow_switches:\n",
        "        edit_set.update(switch_letter(word))\n",
        "\n",
        "    return edit_set"
      ],
      "metadata": {
        "id": "XdJ5-QjB-uVy"
      },
      "execution_count": 37,
      "outputs": []
    },
    {
      "cell_type": "code",
      "source": [
        "edit_one_letter(\"on\")"
      ],
      "metadata": {
        "colab": {
          "base_uri": "https://localhost:8080/"
        },
        "id": "5uHAq-eF-uTd",
        "outputId": "6bf690cd-0871-4f38-ce22-d06b3d37e9e9"
      },
      "execution_count": 38,
      "outputs": [
        {
          "output_type": "execute_result",
          "data": {
            "text/plain": [
              "{'an',\n",
              " 'aon',\n",
              " 'bn',\n",
              " 'bon',\n",
              " 'cn',\n",
              " 'con',\n",
              " 'dn',\n",
              " 'don',\n",
              " 'en',\n",
              " 'eon',\n",
              " 'fn',\n",
              " 'fon',\n",
              " 'gn',\n",
              " 'gon',\n",
              " 'hn',\n",
              " 'hon',\n",
              " 'in',\n",
              " 'ion',\n",
              " 'jn',\n",
              " 'jon',\n",
              " 'kn',\n",
              " 'kon',\n",
              " 'ln',\n",
              " 'lon',\n",
              " 'mn',\n",
              " 'mon',\n",
              " 'n',\n",
              " 'nn',\n",
              " 'no',\n",
              " 'non',\n",
              " 'o',\n",
              " 'oa',\n",
              " 'oan',\n",
              " 'ob',\n",
              " 'obn',\n",
              " 'oc',\n",
              " 'ocn',\n",
              " 'od',\n",
              " 'odn',\n",
              " 'oe',\n",
              " 'oen',\n",
              " 'of',\n",
              " 'ofn',\n",
              " 'og',\n",
              " 'ogn',\n",
              " 'oh',\n",
              " 'ohn',\n",
              " 'oi',\n",
              " 'oin',\n",
              " 'oj',\n",
              " 'ojn',\n",
              " 'ok',\n",
              " 'okn',\n",
              " 'ol',\n",
              " 'oln',\n",
              " 'om',\n",
              " 'omn',\n",
              " 'ona',\n",
              " 'onb',\n",
              " 'onc',\n",
              " 'ond',\n",
              " 'one',\n",
              " 'onf',\n",
              " 'ong',\n",
              " 'onh',\n",
              " 'oni',\n",
              " 'onj',\n",
              " 'onk',\n",
              " 'onl',\n",
              " 'onm',\n",
              " 'onn',\n",
              " 'ono',\n",
              " 'onp',\n",
              " 'onq',\n",
              " 'onr',\n",
              " 'ons',\n",
              " 'ont',\n",
              " 'onu',\n",
              " 'onv',\n",
              " 'onw',\n",
              " 'onx',\n",
              " 'ony',\n",
              " 'onz',\n",
              " 'oo',\n",
              " 'oon',\n",
              " 'op',\n",
              " 'opn',\n",
              " 'oq',\n",
              " 'oqn',\n",
              " 'or',\n",
              " 'orn',\n",
              " 'os',\n",
              " 'osn',\n",
              " 'ot',\n",
              " 'otn',\n",
              " 'ou',\n",
              " 'oun',\n",
              " 'ov',\n",
              " 'ovn',\n",
              " 'ow',\n",
              " 'own',\n",
              " 'ox',\n",
              " 'oxn',\n",
              " 'oy',\n",
              " 'oyn',\n",
              " 'oz',\n",
              " 'ozn',\n",
              " 'pn',\n",
              " 'pon',\n",
              " 'qn',\n",
              " 'qon',\n",
              " 'rn',\n",
              " 'ron',\n",
              " 'sn',\n",
              " 'son',\n",
              " 'tn',\n",
              " 'ton',\n",
              " 'un',\n",
              " 'uon',\n",
              " 'vn',\n",
              " 'von',\n",
              " 'wn',\n",
              " 'won',\n",
              " 'xn',\n",
              " 'xon',\n",
              " 'yn',\n",
              " 'yon',\n",
              " 'zn',\n",
              " 'zon'}"
            ]
          },
          "metadata": {},
          "execution_count": 38
        }
      ]
    },
    {
      "cell_type": "code",
      "source": [
        "len(edit_one_letter(\"on\"))"
      ],
      "metadata": {
        "colab": {
          "base_uri": "https://localhost:8080/"
        },
        "id": "IW-yB0-v-uRJ",
        "outputId": "7d95901c-eca9-4258-c882-334c469b2a83"
      },
      "execution_count": 39,
      "outputs": [
        {
          "output_type": "execute_result",
          "data": {
            "text/plain": [
              "129"
            ]
          },
          "metadata": {},
          "execution_count": 39
        }
      ]
    },
    {
      "cell_type": "code",
      "source": [
        "len(edit_one_letter(\"kingdom\"))"
      ],
      "metadata": {
        "colab": {
          "base_uri": "https://localhost:8080/"
        },
        "id": "ManT0zZt-uO1",
        "outputId": "43d51d43-6b0b-47ef-b13c-1856887656ed"
      },
      "execution_count": 42,
      "outputs": [
        {
          "output_type": "execute_result",
          "data": {
            "text/plain": [
              "389"
            ]
          },
          "metadata": {},
          "execution_count": 42
        }
      ]
    },
    {
      "cell_type": "code",
      "source": [
        "def edit_two_letters(word, allow_switches=True):\n",
        "    \"\"\"\n",
        "    Повертає набір слів, які знаходяться на відстані двох редагувань від вхідного слова.\n",
        "    \"\"\"\n",
        "    edit_set = set()\n",
        "    for w in edit_one_letter(word, allow_switches):\n",
        "        edit_set.update(edit_one_letter(w, allow_switches))\n",
        "\n",
        "    return edit_set"
      ],
      "metadata": {
        "id": "JZMfSxc5-uKS"
      },
      "execution_count": 44,
      "outputs": []
    },
    {
      "cell_type": "code",
      "source": [
        "len(edit_two_letters(\"golden\"))"
      ],
      "metadata": {
        "colab": {
          "base_uri": "https://localhost:8080/"
        },
        "id": "BrtmG2ChALgg",
        "outputId": "9a842cff-4cb0-423f-8b74-4eccf288ed28"
      },
      "execution_count": 46,
      "outputs": [
        {
          "output_type": "execute_result",
          "data": {
            "text/plain": [
              "52170"
            ]
          },
          "metadata": {},
          "execution_count": 46
        }
      ]
    },
    {
      "cell_type": "code",
      "source": [
        "len(edit_two_letters(\"cobblestone\"))"
      ],
      "metadata": {
        "colab": {
          "base_uri": "https://localhost:8080/"
        },
        "id": "rsVc7iOWALeD",
        "outputId": "8f17dcae-ab79-4aad-fb4b-ac37c54a2d5a"
      },
      "execution_count": 47,
      "outputs": [
        {
          "output_type": "execute_result",
          "data": {
            "text/plain": [
              "167603"
            ]
          },
          "metadata": {},
          "execution_count": 47
        }
      ]
    },
    {
      "cell_type": "code",
      "source": [
        "w_counter['golden']"
      ],
      "metadata": {
        "colab": {
          "base_uri": "https://localhost:8080/"
        },
        "id": "jdtsaIQ6ALb2",
        "outputId": "881f0593-fad2-40a3-bd9c-2ab57fd358ef"
      },
      "execution_count": 48,
      "outputs": [
        {
          "output_type": "execute_result",
          "data": {
            "text/plain": [
              "34"
            ]
          },
          "metadata": {},
          "execution_count": 48
        }
      ]
    },
    {
      "cell_type": "code",
      "source": [
        "cand = edit_two_letters(\"duck\")"
      ],
      "metadata": {
        "id": "vQNygULQALZo"
      },
      "execution_count": 50,
      "outputs": []
    },
    {
      "cell_type": "code",
      "source": [
        "count = 0\n",
        "\n",
        "for w in cand:\n",
        "  if w_counter.get(w):\n",
        "    count +=1\n",
        "100*count / len(w_counter)"
      ],
      "metadata": {
        "colab": {
          "base_uri": "https://localhost:8080/"
        },
        "id": "MWii6k5VALXL",
        "outputId": "06e454d0-ef33-4c36-d384-3fcc44ba3895"
      },
      "execution_count": 51,
      "outputs": [
        {
          "output_type": "execute_result",
          "data": {
            "text/plain": [
              "0.2246588894843151"
            ]
          },
          "metadata": {},
          "execution_count": 51
        }
      ]
    },
    {
      "cell_type": "code",
      "source": [
        "def get_corrections(word, probs, vocab, n=2, verbose=False):\n",
        "    \"\"\"\n",
        "    Повертає n найбільш ймовірних корекцій для введеного слова.\n",
        "    \"\"\"\n",
        "    suggestions = []\n",
        "\n",
        "    # Якщо слово є у словнику, пропонуємо його\n",
        "    if word in vocab:\n",
        "        suggestions = [word]\n",
        "    # Якщо є слова на відстані одного редагування\n",
        "    else:\n",
        "        edit_one_set = edit_one_letter(word) & vocab\n",
        "        if edit_one_set:\n",
        "            suggestions = list(edit_one_set)\n",
        "        # Якщо є слова на відстані двох редагувань\n",
        "        else:\n",
        "            edit_two_set = edit_two_letters(word) & vocab\n",
        "            if edit_two_set:\n",
        "                suggestions = list(edit_two_set)\n",
        "            # Якщо редагування не знайдені, повертаємо оригінальне слово\n",
        "            else:\n",
        "                suggestions = [word]\n",
        "\n",
        "    # Обчислюємо ймовірності для кожної пропозиції\n",
        "    best_words = {}\n",
        "    for w in suggestions:\n",
        "        if w in vocab:\n",
        "            best_words[w] = probs.get(w, 0)\n",
        "        else:\n",
        "            best_words[w] = 0\n",
        "\n",
        "    # Повертаємо n слів з найвищими ймовірностями\n",
        "    n_best = sorted(best_words.items(), key=lambda x: x[1], reverse=True)[:n]\n",
        "\n",
        "    if verbose:\n",
        "        print(f\"entered word = {word}, \\nsuggestions = {suggestions}\")\n",
        "\n",
        "    return n_best\n"
      ],
      "metadata": {
        "id": "c1COlr6lALU7"
      },
      "execution_count": 52,
      "outputs": []
    },
    {
      "cell_type": "code",
      "source": [
        "get_corrections(\"ruck\", prob, set(w_counter), 3, True)"
      ],
      "metadata": {
        "colab": {
          "base_uri": "https://localhost:8080/"
        },
        "id": "9WOVAXAH3x8w",
        "outputId": "c882b956-663d-409b-bbf9-1226c78a737b"
      },
      "execution_count": 65,
      "outputs": [
        {
          "output_type": "stream",
          "name": "stdout",
          "text": [
            "entered word = ruck, \n",
            "suggestions = ['huck', 'duck', 'bruck', 'truck', 'ruk', 'luck', 'rick', 'guck', 'rock']\n"
          ]
        },
        {
          "output_type": "execute_result",
          "data": {
            "text/plain": [
              "[('duck', 1.403891681333435e-06),\n",
              " ('ruk', 1.403891681333435e-06),\n",
              " ('guck', 1.0919157521482272e-06)]"
            ]
          },
          "metadata": {},
          "execution_count": 65
        }
      ]
    },
    {
      "cell_type": "code",
      "source": [
        "get_corrections(\"duck\", prob, set(w_counter), 3, True)"
      ],
      "metadata": {
        "colab": {
          "base_uri": "https://localhost:8080/"
        },
        "id": "_kr-Eoa5CVD4",
        "outputId": "4b026365-3536-444d-d1de-266cfcffd377"
      },
      "execution_count": 64,
      "outputs": [
        {
          "output_type": "stream",
          "name": "stdout",
          "text": [
            "entered word = duck, \n",
            "suggestions = ['duck']\n"
          ]
        },
        {
          "output_type": "execute_result",
          "data": {
            "text/plain": [
              "[('duck', 1.403891681333435e-06)]"
            ]
          },
          "metadata": {},
          "execution_count": 64
        }
      ]
    },
    {
      "cell_type": "code",
      "source": [
        "get_corrections(\"litle\", prob, set(w_counter), 3, True)"
      ],
      "metadata": {
        "colab": {
          "base_uri": "https://localhost:8080/"
        },
        "id": "dGt4lNDMCVBB",
        "outputId": "f1dcd9c5-0fbe-4efa-b722-8de471968610"
      },
      "execution_count": 63,
      "outputs": [
        {
          "output_type": "stream",
          "name": "stdout",
          "text": [
            "entered word = litle, \n",
            "suggestions = ['lite', 'title', 'little', 'lille']\n"
          ]
        },
        {
          "output_type": "execute_result",
          "data": {
            "text/plain": [
              "[('little', 5.3503871855263135e-05),\n",
              " ('lite', 1.0919157521482272e-06),\n",
              " ('title', 6.239518583704156e-07)]"
            ]
          },
          "metadata": {},
          "execution_count": 63
        }
      ]
    },
    {
      "cell_type": "code",
      "source": [
        "def min_edit_distance(source, target, ins_cost=1, del_cost=1, rep_cost=2):\n",
        "    \"\"\"\n",
        "    Обчислює мінімальну відстань редагування між двома рядками.\n",
        "    \"\"\"\n",
        "    m = len(source)\n",
        "    n = len(target)\n",
        "    D = np.zeros((m+1, n+1), dtype=int)\n",
        "\n",
        "    # Ініціалізація\n",
        "    for row in range(m+1):\n",
        "        D[row, 0] = row * del_cost\n",
        "\n",
        "    for col in range(n+1):\n",
        "        D[0, col] = col * ins_cost\n",
        "\n",
        "    # Заповнення матриці\n",
        "    for row in range(1, m+1):\n",
        "        for col in range(1, n+1):\n",
        "            r_cost = rep_cost\n",
        "            if source[row-1] == target[col-1]:\n",
        "                r_cost = 0\n",
        "\n",
        "            D[row, col] = min(\n",
        "                D[row-1, col] + del_cost,\n",
        "                D[row, col-1] + ins_cost,\n",
        "                D[row-1, col-1] + r_cost\n",
        "            )\n",
        "\n",
        "    return D, D[m, n]"
      ],
      "metadata": {
        "id": "UjVmUIpdCU-X"
      },
      "execution_count": 66,
      "outputs": []
    },
    {
      "cell_type": "code",
      "source": [
        "D, w_counter = min_edit_distance(\"ruck\", \"duck\")"
      ],
      "metadata": {
        "id": "x25-sd33CU4M"
      },
      "execution_count": 67,
      "outputs": []
    },
    {
      "cell_type": "code",
      "source": [
        "w_counter"
      ],
      "metadata": {
        "colab": {
          "base_uri": "https://localhost:8080/"
        },
        "id": "GLv_FdPTDJXG",
        "outputId": "b8a24232-8922-4754-ba4e-09d05a4c5e7c"
      },
      "execution_count": 68,
      "outputs": [
        {
          "output_type": "execute_result",
          "data": {
            "text/plain": [
              "np.int64(2)"
            ]
          },
          "metadata": {},
          "execution_count": 68
        }
      ]
    },
    {
      "cell_type": "code",
      "source": [
        "D, w_counter = min_edit_distance(\"litle\", \"little\")"
      ],
      "metadata": {
        "id": "rYzTZdS-DNmk"
      },
      "execution_count": 69,
      "outputs": []
    },
    {
      "cell_type": "code",
      "source": [
        "w_counter"
      ],
      "metadata": {
        "colab": {
          "base_uri": "https://localhost:8080/"
        },
        "id": "cB2HemQfDNdQ",
        "outputId": "11d9e242-da9b-4825-dcba-13dafa2cc6ba"
      },
      "execution_count": 70,
      "outputs": [
        {
          "output_type": "execute_result",
          "data": {
            "text/plain": [
              "np.int64(1)"
            ]
          },
          "metadata": {},
          "execution_count": 70
        }
      ]
    },
    {
      "cell_type": "code",
      "source": [
        "min_edit_distance(\"litle\", \"little\")"
      ],
      "metadata": {
        "colab": {
          "base_uri": "https://localhost:8080/"
        },
        "id": "SrchAArsDVSg",
        "outputId": "fa60b6f5-71fd-4d8f-b104-e046701976b5"
      },
      "execution_count": 71,
      "outputs": [
        {
          "output_type": "execute_result",
          "data": {
            "text/plain": [
              "(array([[0, 1, 2, 3, 4, 5, 6],\n",
              "        [1, 0, 1, 2, 3, 4, 5],\n",
              "        [2, 1, 0, 1, 2, 3, 4],\n",
              "        [3, 2, 1, 0, 1, 2, 3],\n",
              "        [4, 3, 2, 1, 2, 1, 2],\n",
              "        [5, 4, 3, 2, 3, 2, 1]]),\n",
              " np.int64(1))"
            ]
          },
          "metadata": {},
          "execution_count": 71
        }
      ]
    },
    {
      "cell_type": "code",
      "source": [
        "# Завантаження та обробка даних\n",
        "word_l = process_data('corpus.txt')\n",
        "vocab = set(word_l)\n",
        "word_count_dict = get_count(word_l)\n",
        "probs = get_probs(word_count_dict)\n",
        "\n",
        "# Тестування автокорекції\n",
        "test_words = ['hllo', 'mony', 'comming', 'happpy', 'xylophonne']\n",
        "for word in test_words:\n",
        "    corrections = get_corrections(word, probs, vocab, 3, verbose=True)\n",
        "    print(f\"Корекції для '{word}':\")\n",
        "    for i, (correction, prob) in enumerate(corrections):\n",
        "        print(f\"  {i+1}. {correction} (ймовірність: {prob:.6f})\")\n",
        "    print()\n",
        "\n",
        "# Тестування мінімальної відстані редагування\n",
        "test_pairs = [('play', 'stay'), ('sunday', 'saturday'), ('intention', 'execution')]\n",
        "for source, target in test_pairs:\n",
        "    D, med = min_edit_distance(source, target)\n",
        "    print(f\"Мінімальна відстань редагування між '{source}' та '{target}': {med}\")\n",
        "    print(\"Матриця відстаней:\")\n",
        "    print(pd.DataFrame(D, index=['#'] + list(source), columns=['#'] + list(target)))\n",
        "    print()\n"
      ],
      "metadata": {
        "colab": {
          "base_uri": "https://localhost:8080/"
        },
        "id": "cmrZujckDZzy",
        "outputId": "37c66389-a329-4f45-c32c-db34d4eaf0fa"
      },
      "execution_count": 73,
      "outputs": [
        {
          "output_type": "stream",
          "name": "stdout",
          "text": [
            "entered word = hllo, \n",
            "suggestions = ['hlle', 'ello', 'hllc', 'halo']\n",
            "Корекції для 'hllo':\n",
            "  1. halo (ймовірність: 0.000096)\n",
            "  2. hllc (ймовірність: 0.000000)\n",
            "  3. hlle (ймовірність: 0.000000)\n",
            "\n",
            "entered word = mony, \n",
            "suggestions = ['miny', 'money', 'mong', 'mond', 'many', 'cony', 'tony', 'moni', 'monk', 'mono', 'mon', 'mone']\n",
            "Корекції для 'mony':\n",
            "  1. many (ймовірність: 0.000288)\n",
            "  2. mon (ймовірність: 0.000010)\n",
            "  3. miny (ймовірність: 0.000005)\n",
            "\n",
            "entered word = comming, \n",
            "suggestions = ['combing', 'coming']\n",
            "Корекції для 'comming':\n",
            "  1. coming (ймовірність: 0.000036)\n",
            "  2. combing (ймовірність: 0.000001)\n",
            "\n",
            "entered word = happpy, \n",
            "suggestions = ['happy']\n",
            "Корекції для 'happpy':\n",
            "  1. happy (ймовірність: 0.000000)\n",
            "\n",
            "entered word = xylophonne, \n",
            "suggestions = ['xylophone']\n",
            "Корекції для 'xylophonne':\n",
            "  1. xylophone (ймовірність: 0.000001)\n",
            "\n",
            "Мінімальна відстань редагування між 'play' та 'stay': 4\n",
            "Матриця відстаней:\n",
            "   #  s  t  a  y\n",
            "#  0  1  2  3  4\n",
            "p  1  2  3  4  5\n",
            "l  2  3  4  5  6\n",
            "a  3  4  5  4  5\n",
            "y  4  5  6  5  4\n",
            "\n",
            "Мінімальна відстань редагування між 'sunday' та 'saturday': 4\n",
            "Матриця відстаней:\n",
            "   #  s  a  t  u  r  d  a  y\n",
            "#  0  1  2  3  4  5  6  7  8\n",
            "s  1  0  1  2  3  4  5  6  7\n",
            "u  2  1  2  3  2  3  4  5  6\n",
            "n  3  2  3  4  3  4  5  6  7\n",
            "d  4  3  4  5  4  5  4  5  6\n",
            "a  5  4  3  4  5  6  5  4  5\n",
            "y  6  5  4  5  6  7  6  5  4\n",
            "\n",
            "Мінімальна відстань редагування між 'intention' та 'execution': 8\n",
            "Матриця відстаней:\n",
            "   #  e  x   e   c   u   t   i   o   n\n",
            "#  0  1  2   3   4   5   6   7   8   9\n",
            "i  1  2  3   4   5   6   7   6   7   8\n",
            "n  2  3  4   5   6   7   8   7   8   7\n",
            "t  3  4  5   6   7   8   7   8   9   8\n",
            "e  4  3  4   5   6   7   8   9  10   9\n",
            "n  5  4  5   6   7   8   9  10  11  10\n",
            "t  6  5  6   7   8   9   8   9  10  11\n",
            "i  7  6  7   8   9  10   9   8   9  10\n",
            "o  8  7  8   9  10  11  10   9   8   9\n",
            "n  9  8  9  10  11  12  11  10   9   8\n",
            "\n"
          ]
        }
      ]
    },
    {
      "cell_type": "code",
      "source": [],
      "metadata": {
        "id": "uyaramHKDZwv"
      },
      "execution_count": null,
      "outputs": []
    },
    {
      "cell_type": "code",
      "source": [],
      "metadata": {
        "id": "GMioLEcHDZuV"
      },
      "execution_count": null,
      "outputs": []
    },
    {
      "cell_type": "code",
      "source": [],
      "metadata": {
        "id": "k8yp9LazDZpH"
      },
      "execution_count": null,
      "outputs": []
    },
    {
      "cell_type": "code",
      "source": [],
      "metadata": {
        "id": "V2XD0jq6DZmX"
      },
      "execution_count": null,
      "outputs": []
    }
  ]
}